{
 "cells": [
  {
   "cell_type": "markdown",
   "id": "480cd5ca",
   "metadata": {},
   "source": [
    "# Aula 01 - Manipulação de Arquivos .txt"
   ]
  },
  {
   "cell_type": "markdown",
   "id": "85d6e45d",
   "metadata": {},
   "source": [
    "        Python já possui funcionalidades nativas para operar em arquivos texto. Não sendo necessário importar bibliotecas"
   ]
  },
  {
   "cell_type": "markdown",
   "id": "a4e5541b",
   "metadata": {},
   "source": [
    "Arquivos tipo texto contêm dadosem geral em forma de texto, sem uma configuração padrão.  \n",
    "  \n",
    "Para a manipulação desses dados usamos o `open`. Um arquivo *.txt* passa a ser um objeto python após aberto dessa forma."
   ]
  },
  {
   "cell_type": "markdown",
   "id": "87eed972",
   "metadata": {},
   "source": [
    "📌   \n",
    "![Metodos de Manipulação .txt](https://raw.githubusercontent.com/vbs-matheus/PosGraduacao-EngDados/refs/heads/main/imgs/metodos_txt_python.png)"
   ]
  },
  {
   "cell_type": "markdown",
   "id": "2835aa3a",
   "metadata": {},
   "source": [
    "## ▹ Criando e Adicionando Dados em ***.txt***"
   ]
  },
  {
   "cell_type": "code",
   "execution_count": 9,
   "id": "d3598db4",
   "metadata": {},
   "outputs": [],
   "source": [
    "# Criando o arquivo\n",
    "with open('novo_arquivo.txt', 'w') as arquivo:\n",
    "    arquivo.write('Aula de manipulação de arquivos\\n')\n",
    "    arquivo.write('Escrevendo dados no arquivo\\n')\n",
    "    arquivo.write('Criando uma nova linhas')"
   ]
  },
  {
   "cell_type": "markdown",
   "id": "e5247e0b",
   "metadata": {},
   "source": [
    "Após o arquivo sendo fechado, ao abrir ele de novo para escrever sem apagar o que estava anteriormente no arquivo, é importante usar a expressão `'a'` de ***append*** durante o `open`, para informar que haverá a inclusão e não sobreposição dos dados."
   ]
  },
  {
   "cell_type": "code",
   "execution_count": 10,
   "id": "92da860c",
   "metadata": {},
   "outputs": [],
   "source": [
    "with open ('novo_arquivo.txt', 'a') as arquivo:\n",
    "    arquivo.write('\\nAdicionando mais uma linha, mas com o append')"
   ]
  },
  {
   "cell_type": "code",
   "execution_count": 11,
   "id": "8713eb87",
   "metadata": {},
   "outputs": [],
   "source": [
    "# Adicionando uma lista de strings à um arquivo\n",
    "\n",
    "lista = ['\\nJoão foi à aula\\n', 'Maria não foi à aula\\n', 'José foi encontrar a namorada']\n",
    "with open('novo_arquivo.txt', 'a') as arquivo:\n",
    "    arquivo.writelines(lista)"
   ]
  },
  {
   "cell_type": "markdown",
   "id": "828db0a4",
   "metadata": {},
   "source": [
    "## ▹ Acessando/lendo os dados do arquivo"
   ]
  },
  {
   "cell_type": "code",
   "execution_count": 12,
   "id": "75dc4132",
   "metadata": {},
   "outputs": [
    {
     "name": "stdout",
     "output_type": "stream",
     "text": [
      "Aula de manipulação de arquivos\n",
      "\n",
      "Escrevendo dados no arquivo\n",
      "\n",
      "Criando uma nova linhas\n",
      "\n",
      "Adicionando mais uma linha, mas com o append\n",
      "\n",
      "João foi à aula\n",
      "\n",
      "Maria não foi à aula\n",
      "\n",
      "José foi encontrar a namorada\n"
     ]
    }
   ],
   "source": [
    "# Linha à linha\n",
    "with open('novo_arquivo.txt', 'r') as arquivo:\n",
    "    for linha in arquivo:\n",
    "        print(linha)"
   ]
  },
  {
   "cell_type": "code",
   "execution_count": 13,
   "id": "3e5b21eb",
   "metadata": {},
   "outputs": [
    {
     "name": "stdout",
     "output_type": "stream",
     "text": [
      "Separando cada palavra\n",
      "['Aula', 'de', 'manipulação', 'de', 'arquivos']\n",
      "['Escrevendo', 'dados', 'no', 'arquivo']\n",
      "['Criando', 'uma', 'nova', 'linhas']\n",
      "['Adicionando', 'mais', 'uma', 'linha,', 'mas', 'com', 'o', 'append']\n",
      "['João', 'foi', 'à', 'aula']\n",
      "['Maria', 'não', 'foi', 'à', 'aula']\n",
      "['José', 'foi', 'encontrar', 'a', 'namorada']\n"
     ]
    }
   ],
   "source": [
    "# Linha à linha / Palavra por palavra\n",
    "with open('novo_arquivo.txt', 'r') as arquivo:\n",
    "    print('Separando cada palavra')\n",
    "    for linha in arquivo:\n",
    "        print(linha.split())"
   ]
  },
  {
   "cell_type": "code",
   "execution_count": 14,
   "id": "f195a039",
   "metadata": {},
   "outputs": [
    {
     "name": "stdout",
     "output_type": "stream",
     "text": [
      "Transformando o arquivo em uma lista\n",
      "['Aula de manipulação de arquivos\\n', 'Escrevendo dados no arquivo\\n', 'Criando uma nova linhas\\n', 'Adicionando mais uma linha, mas com o append\\n', 'João foi à aula\\n', 'Maria não foi à aula\\n', 'José foi encontrar a namorada']\n"
     ]
    }
   ],
   "source": [
    "# Transformando o arquivo em uma lista\n",
    "with open('novo_arquivo.txt', 'r') as arquivo:\n",
    "    lista = arquivo.readlines()\n",
    "    print('Transformando o arquivo em uma lista')\n",
    "    print(lista)"
   ]
  },
  {
   "cell_type": "code",
   "execution_count": null,
   "id": "ddd8859b",
   "metadata": {},
   "outputs": [],
   "source": [
    "# Copiando arquivo para outro\n",
    "open('nova_saida.txt', 'w').writelines(open('novo_arquivo.txt').readlines())\n"
   ]
  },
  {
   "cell_type": "markdown",
   "id": "7a94a8c5",
   "metadata": {},
   "source": [
    "# Aula 02 - Manipulação de arquivos ***.csv***"
   ]
  },
  {
   "cell_type": "markdown",
   "id": "dfcdf0fe",
   "metadata": {},
   "source": [
    "Tem diversas formas de trabalhar arquivo ***.csv*** no python. Nessa aula estamos estudando o uso da biblioteca `csv`"
   ]
  },
  {
   "cell_type": "markdown",
   "id": "83ae3629",
   "metadata": {},
   "source": [
    "## ▹Adicionando Dados"
   ]
  },
  {
   "cell_type": "markdown",
   "id": "36f75b92",
   "metadata": {},
   "source": [
    "Essa biblioteca tem dois objetos principais para escrever em arquivo .csv: \n",
    "- `writer` == utilizado para escreve dados no arquivo\n",
    "  - `writerow()` == escreve uma linha em um arquivo csv"
   ]
  },
  {
   "cell_type": "code",
   "execution_count": 2,
   "id": "3c3576a8",
   "metadata": {},
   "outputs": [],
   "source": [
    "import csv\n",
    "\n",
    "with open('saida.csv', 'w') as arquivo_csv:\n",
    "    writer = csv.writer(arquivo_csv)\n",
    "    writer.writerow(('RA', 'nome', 'nota'))\n",
    "    writer.writerow((100, 'João', 70.5))\n",
    "    writer.writerow((200, 'Maria', 80.00))\n",
    "    writer.writerow((300, 'José', 100.0))"
   ]
  },
  {
   "cell_type": "markdown",
   "id": "311ccaea",
   "metadata": {},
   "source": [
    "Apesar de por padrão o ***.csv*** utilizar vírgula como delimitador, é possível configurar outros delimitadores durante a criação."
   ]
  },
  {
   "cell_type": "code",
   "execution_count": 3,
   "id": "7bdc6e46",
   "metadata": {},
   "outputs": [],
   "source": [
    "with open('saida_02.csv', 'w', newline= '') as arquivo_csv:\n",
    "    writer = csv.writer(arquivo_csv, delimiter = ';')\n",
    "    writer.writerow(('RA', 'nome', 'nota'))\n",
    "    writer.writerow((100, 'João', 70.5))\n",
    "    writer.writerow((200, 'Maria', 80.00))\n",
    "    writer.writerow((300, 'José', 100.0))"
   ]
  },
  {
   "cell_type": "markdown",
   "id": "42bd7dc5",
   "metadata": {},
   "source": [
    "## ▹ Acessando/lendo os dados no csv"
   ]
  },
  {
   "cell_type": "markdown",
   "id": "d3810f0f",
   "metadata": {},
   "source": [
    "Utilizamos o objeto `reader` para ler os arquivos em arquivo .csv"
   ]
  },
  {
   "cell_type": "code",
   "execution_count": 4,
   "id": "e8cb3bd5",
   "metadata": {},
   "outputs": [
    {
     "name": "stdout",
     "output_type": "stream",
     "text": [
      "['jogador', 'time', 'posicao', 'salario']\n",
      "['Everson', 'Atlético', 'Goleiro', '150000.00']\n",
      "['Incrível Hulk', 'Atlético', 'Atacante', '850000.00']\n",
      "['Fábio', 'Cruzeiro', 'Goleiro', '100000.00']\n",
      "['Edu', 'Cruzeiro', 'Atacante', '150000.00']\n",
      "['Diego Tardeli', 'null', 'Atacante', 'null']\n"
     ]
    }
   ],
   "source": [
    "with open('jogadores.csv', 'r') as arquivo:\n",
    "    reader = csv.reader(arquivo, delimiter=';')\n",
    "    for linha in reader:\n",
    "        print(linha)"
   ]
  }
 ],
 "metadata": {
  "kernelspec": {
   "display_name": "base",
   "language": "python",
   "name": "python3"
  },
  "language_info": {
   "codemirror_mode": {
    "name": "ipython",
    "version": 3
   },
   "file_extension": ".py",
   "mimetype": "text/x-python",
   "name": "python",
   "nbconvert_exporter": "python",
   "pygments_lexer": "ipython3",
   "version": "3.12.7"
  }
 },
 "nbformat": 4,
 "nbformat_minor": 5
}
