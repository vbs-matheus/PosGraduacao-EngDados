{
 "cells": [
  {
   "cell_type": "markdown",
   "id": "f38b7ded",
   "metadata": {},
   "source": [
    "# Aula 01 - Trabalhando com Pandas"
   ]
  },
  {
   "cell_type": "markdown",
   "id": "8538897e",
   "metadata": {},
   "source": [
    "        Pandas é uma poderosa biblioteca para manipulação e análise de dados estruturados.  "
   ]
  },
  {
   "cell_type": "markdown",
   "id": "48175262",
   "metadata": {
    "vscode": {
     "languageId": "plaintext"
    }
   },
   "source": [
    "\n",
    "Ela é utilizada amplamente no processo de preparação de dados por permitir funções como:  \n",
    "- Limpeza e manipulação de dados; \n",
    "- Substituição ou inserção de valores nulos;  \n",
    "- Exclusão de dados duplicados  \n",
    "- Utilização de funções estatísticas para análise de dados.  \n",
    "E muitas outras.  "
   ]
  },
  {
   "cell_type": "markdown",
   "id": "21a651af",
   "metadata": {},
   "source": [
    "Possui dos tipos de dados básicos:\n",
    "- **Series**\n",
    "- **DataFrames**"
   ]
  },
  {
   "cell_type": "markdown",
   "id": "889b5b2c",
   "metadata": {},
   "source": [
    "\n",
    "![Tipos de Dados](https://raw.githubusercontent.com/vbs-matheus/PosGraduacao-EngDados/refs/heads/main/imgs/pandas_TiposdeDados.jpg)"
   ]
  },
  {
   "cell_type": "markdown",
   "id": "89960974",
   "metadata": {},
   "source": [
    "## ▹ **Series**"
   ]
  },
  {
   "cell_type": "markdown",
   "id": "9567b4ec",
   "metadata": {},
   "source": [
    "***Series*** são arranjos unidimensionais indexados, que podem conter elementos de tipos diversos:  \n",
    "- ***int***\n",
    "- ***float***\n",
    "- ***string***\n",
    "- ***list*** (**e outras estruturas de dados**)"
   ]
  },
  {
   "cell_type": "code",
   "execution_count": 1,
   "id": "aaa4b5fb",
   "metadata": {},
   "outputs": [
    {
     "name": "stdout",
     "output_type": "stream",
     "text": [
      "0    10\n",
      "1    20\n",
      "2    43\n",
      "dtype: int64\n"
     ]
    }
   ],
   "source": [
    "import pandas as pd\n",
    "\n",
    "#criando uma serie indexada por valores inteiros, iniciando em 0\n",
    "series_int = pd.Series([10, 20, 43])\n",
    "print(series_int)"
   ]
  },
  {
   "cell_type": "code",
   "execution_count": 2,
   "id": "de3f7a99",
   "metadata": {},
   "outputs": [
    {
     "name": "stdout",
     "output_type": "stream",
     "text": [
      "a    10\n",
      "b    20\n",
      "c    43\n",
      "dtype: int64\n"
     ]
    }
   ],
   "source": [
    "# Criando uma serie indexada por strings\n",
    "series_str = pd.Series([10, 20, 43], index=['a', 'b', 'c'])\n",
    "print(series_str)"
   ]
  },
  {
   "cell_type": "code",
   "execution_count": 3,
   "id": "496f7133",
   "metadata": {},
   "outputs": [
    {
     "name": "stdout",
     "output_type": "stream",
     "text": [
      "joao     10\n",
      "maria    20\n",
      "jose     43\n",
      "dtype: int64\n"
     ]
    }
   ],
   "source": [
    "# Criando uma serie indexada por nomes\n",
    "series_nome = pd.Series([10, 20, 43], index=['joao', 'maria', 'jose'])\n",
    "print(series_nome)"
   ]
  },
  {
   "cell_type": "markdown",
   "id": "67a9f2ac",
   "metadata": {},
   "source": [
    "### **Funções do *Series***"
   ]
  },
  {
   "cell_type": "markdown",
   "id": "f954d102",
   "metadata": {},
   "source": [
    "#### `.describe()`"
   ]
  },
  {
   "cell_type": "markdown",
   "id": "d5ba4859",
   "metadata": {},
   "source": [
    "Com a função `.describe()`, se os valores presentes na **Series**, independente do indexador, forem do tipo numerico, ele já retorna um resumo estatístico da **Series**."
   ]
  },
  {
   "cell_type": "code",
   "execution_count": 4,
   "id": "b16495a1",
   "metadata": {},
   "outputs": [
    {
     "data": {
      "text/plain": [
       "count        5.000000\n",
       "mean      8200.100000\n",
       "std      12219.807693\n",
       "min       1500.000000\n",
       "25%       2500.000000\n",
       "50%       3000.500000\n",
       "75%       4000.000000\n",
       "max      30000.000000\n",
       "dtype: float64"
      ]
     },
     "execution_count": 4,
     "metadata": {},
     "output_type": "execute_result"
    }
   ],
   "source": [
    "funcionarios = {\n",
    "    'jonas': 1500,\n",
    "    'maria': 2500,\n",
    "    'roberval': 3000.50,\n",
    "    'Carla': 4000.00,\n",
    "    'Alex': 30000.00\n",
    "}\n",
    "\n",
    "series = pd.Series(funcionarios)\n",
    "series.describe()"
   ]
  },
  {
   "cell_type": "markdown",
   "id": "c3e07baa",
   "metadata": {},
   "source": [
    "\n",
    "- `count` == quantidade de itens na Series\n",
    "- `mean` == média dos valores\n",
    "- `std` == desvio padrão\n",
    "- `min` == mínimo\n",
    "- `25%`; `50%`; `75%`\n",
    "- `max` == máximo\n",
    "- `dtype` == Data Type dos valores"
   ]
  },
  {
   "cell_type": "markdown",
   "id": "311555a3",
   "metadata": {},
   "source": [
    "#### `.sort_values()`"
   ]
  },
  {
   "cell_type": "markdown",
   "id": "1bda0fff",
   "metadata": {},
   "source": [
    "Ordena as série pelo valor. Em caso de index do tipo ***string***, ordena por ordem alfabética  \n",
    "  \n",
    "Na função, o uso do `(inplace = True)` faz a atualização ser sobre o próprio objeto original.  \n",
    "O não uso do `inplace` cria um novo objeto, deixando o original intacto"
   ]
  },
  {
   "cell_type": "code",
   "execution_count": 5,
   "id": "0d0d9806",
   "metadata": {},
   "outputs": [
    {
     "name": "stdout",
     "output_type": "stream",
     "text": [
      "joao     10\n",
      "jose     43\n",
      "maria    20\n",
      "dtype: int64\n"
     ]
    }
   ],
   "source": [
    "series_nome.sort_index(inplace=True)\n",
    "print(series_nome)"
   ]
  },
  {
   "cell_type": "markdown",
   "id": "ded75613",
   "metadata": {},
   "source": [
    "## ▹ **DataFrame**"
   ]
  },
  {
   "cell_type": "markdown",
   "id": "59fca83c",
   "metadata": {},
   "source": [
    "        Estrutura bidimensional, utilizada para armazenamento de dados."
   ]
  },
  {
   "cell_type": "code",
   "execution_count": 6,
   "id": "c445840c",
   "metadata": {},
   "outputs": [
    {
     "data": {
      "text/html": [
       "<div>\n",
       "<style scoped>\n",
       "    .dataframe tbody tr th:only-of-type {\n",
       "        vertical-align: middle;\n",
       "    }\n",
       "\n",
       "    .dataframe tbody tr th {\n",
       "        vertical-align: top;\n",
       "    }\n",
       "\n",
       "    .dataframe thead th {\n",
       "        text-align: right;\n",
       "    }\n",
       "</style>\n",
       "<table border=\"1\" class=\"dataframe\">\n",
       "  <thead>\n",
       "    <tr style=\"text-align: right;\">\n",
       "      <th></th>\n",
       "      <th>nome</th>\n",
       "      <th>RA</th>\n",
       "      <th>sexo</th>\n",
       "      <th>nota</th>\n",
       "    </tr>\n",
       "  </thead>\n",
       "  <tbody>\n",
       "    <tr>\n",
       "      <th>0</th>\n",
       "      <td>João</td>\n",
       "      <td>1000</td>\n",
       "      <td>M</td>\n",
       "      <td>80.0</td>\n",
       "    </tr>\n",
       "    <tr>\n",
       "      <th>1</th>\n",
       "      <td>Maria</td>\n",
       "      <td>2000</td>\n",
       "      <td>F</td>\n",
       "      <td>90.0</td>\n",
       "    </tr>\n",
       "    <tr>\n",
       "      <th>2</th>\n",
       "      <td>Carlos</td>\n",
       "      <td>3000</td>\n",
       "      <td>M</td>\n",
       "      <td>75.0</td>\n",
       "    </tr>\n",
       "    <tr>\n",
       "      <th>3</th>\n",
       "      <td>Silvia</td>\n",
       "      <td>4000</td>\n",
       "      <td>F</td>\n",
       "      <td>100.0</td>\n",
       "    </tr>\n",
       "    <tr>\n",
       "      <th>4</th>\n",
       "      <td>André</td>\n",
       "      <td>5000</td>\n",
       "      <td>M</td>\n",
       "      <td>96.5</td>\n",
       "    </tr>\n",
       "  </tbody>\n",
       "</table>\n",
       "</div>"
      ],
      "text/plain": [
       "     nome    RA sexo   nota\n",
       "0    João  1000    M   80.0\n",
       "1   Maria  2000    F   90.0\n",
       "2  Carlos  3000    M   75.0\n",
       "3  Silvia  4000    F  100.0\n",
       "4   André  5000    M   96.5"
      ]
     },
     "execution_count": 6,
     "metadata": {},
     "output_type": "execute_result"
    }
   ],
   "source": [
    "alunos = {\n",
    "    'nome': ['João', 'Maria', 'Carlos', 'Silvia', 'André', 'Juliana'],\n",
    "    'RA': [1000, 2000, 3000, 4000, 5000, 6000],\n",
    "    'sexo': ['M', 'F', 'M', 'F', 'M', 'F'],\n",
    "    'nota': [80.0, 90.0, 75.0, 100.0, 96.5, 98.5]\n",
    "}\n",
    "\n",
    "df_alunos = pd.DataFrame(alunos)\n",
    "\n",
    "# Exibe as 5 primeiras linhas do DataFrame\n",
    "df_alunos.head() "
   ]
  },
  {
   "cell_type": "markdown",
   "id": "2c9522e5",
   "metadata": {},
   "source": [
    "### **Funções do *DataFrame***"
   ]
  },
  {
   "cell_type": "markdown",
   "id": "66715c05",
   "metadata": {},
   "source": [
    "#### `.tail()`"
   ]
  },
  {
   "cell_type": "code",
   "execution_count": 7,
   "id": "a28c9102",
   "metadata": {},
   "outputs": [
    {
     "data": {
      "text/html": [
       "<div>\n",
       "<style scoped>\n",
       "    .dataframe tbody tr th:only-of-type {\n",
       "        vertical-align: middle;\n",
       "    }\n",
       "\n",
       "    .dataframe tbody tr th {\n",
       "        vertical-align: top;\n",
       "    }\n",
       "\n",
       "    .dataframe thead th {\n",
       "        text-align: right;\n",
       "    }\n",
       "</style>\n",
       "<table border=\"1\" class=\"dataframe\">\n",
       "  <thead>\n",
       "    <tr style=\"text-align: right;\">\n",
       "      <th></th>\n",
       "      <th>nome</th>\n",
       "      <th>RA</th>\n",
       "      <th>sexo</th>\n",
       "      <th>nota</th>\n",
       "    </tr>\n",
       "  </thead>\n",
       "  <tbody>\n",
       "    <tr>\n",
       "      <th>1</th>\n",
       "      <td>Maria</td>\n",
       "      <td>2000</td>\n",
       "      <td>F</td>\n",
       "      <td>90.0</td>\n",
       "    </tr>\n",
       "    <tr>\n",
       "      <th>2</th>\n",
       "      <td>Carlos</td>\n",
       "      <td>3000</td>\n",
       "      <td>M</td>\n",
       "      <td>75.0</td>\n",
       "    </tr>\n",
       "    <tr>\n",
       "      <th>3</th>\n",
       "      <td>Silvia</td>\n",
       "      <td>4000</td>\n",
       "      <td>F</td>\n",
       "      <td>100.0</td>\n",
       "    </tr>\n",
       "    <tr>\n",
       "      <th>4</th>\n",
       "      <td>André</td>\n",
       "      <td>5000</td>\n",
       "      <td>M</td>\n",
       "      <td>96.5</td>\n",
       "    </tr>\n",
       "    <tr>\n",
       "      <th>5</th>\n",
       "      <td>Juliana</td>\n",
       "      <td>6000</td>\n",
       "      <td>F</td>\n",
       "      <td>98.5</td>\n",
       "    </tr>\n",
       "  </tbody>\n",
       "</table>\n",
       "</div>"
      ],
      "text/plain": [
       "      nome    RA sexo   nota\n",
       "1    Maria  2000    F   90.0\n",
       "2   Carlos  3000    M   75.0\n",
       "3   Silvia  4000    F  100.0\n",
       "4    André  5000    M   96.5\n",
       "5  Juliana  6000    F   98.5"
      ]
     },
     "execution_count": 7,
     "metadata": {},
     "output_type": "execute_result"
    }
   ],
   "source": [
    "# Exibe as 5 últimas linhas do DataFrame\n",
    "df_alunos.tail() "
   ]
  },
  {
   "cell_type": "markdown",
   "id": "80a7aef3",
   "metadata": {},
   "source": [
    "#### `.sample()`"
   ]
  },
  {
   "cell_type": "code",
   "execution_count": 8,
   "id": "50634d38",
   "metadata": {},
   "outputs": [
    {
     "data": {
      "text/html": [
       "<div>\n",
       "<style scoped>\n",
       "    .dataframe tbody tr th:only-of-type {\n",
       "        vertical-align: middle;\n",
       "    }\n",
       "\n",
       "    .dataframe tbody tr th {\n",
       "        vertical-align: top;\n",
       "    }\n",
       "\n",
       "    .dataframe thead th {\n",
       "        text-align: right;\n",
       "    }\n",
       "</style>\n",
       "<table border=\"1\" class=\"dataframe\">\n",
       "  <thead>\n",
       "    <tr style=\"text-align: right;\">\n",
       "      <th></th>\n",
       "      <th>nome</th>\n",
       "      <th>RA</th>\n",
       "      <th>sexo</th>\n",
       "      <th>nota</th>\n",
       "    </tr>\n",
       "  </thead>\n",
       "  <tbody>\n",
       "    <tr>\n",
       "      <th>3</th>\n",
       "      <td>Silvia</td>\n",
       "      <td>4000</td>\n",
       "      <td>F</td>\n",
       "      <td>100.0</td>\n",
       "    </tr>\n",
       "    <tr>\n",
       "      <th>0</th>\n",
       "      <td>João</td>\n",
       "      <td>1000</td>\n",
       "      <td>M</td>\n",
       "      <td>80.0</td>\n",
       "    </tr>\n",
       "    <tr>\n",
       "      <th>5</th>\n",
       "      <td>Juliana</td>\n",
       "      <td>6000</td>\n",
       "      <td>F</td>\n",
       "      <td>98.5</td>\n",
       "    </tr>\n",
       "  </tbody>\n",
       "</table>\n",
       "</div>"
      ],
      "text/plain": [
       "      nome    RA sexo   nota\n",
       "3   Silvia  4000    F  100.0\n",
       "0     João  1000    M   80.0\n",
       "5  Juliana  6000    F   98.5"
      ]
     },
     "execution_count": 8,
     "metadata": {},
     "output_type": "execute_result"
    }
   ],
   "source": [
    "# Exibe uma amostra aleatória de linhas do DataFrame\n",
    "df_alunos.sample(3)"
   ]
  },
  {
   "cell_type": "markdown",
   "id": "1b2ee72f",
   "metadata": {},
   "source": [
    "#### `.describe()`"
   ]
  },
  {
   "cell_type": "code",
   "execution_count": 9,
   "id": "0e4eee74",
   "metadata": {},
   "outputs": [
    {
     "data": {
      "text/html": [
       "<div>\n",
       "<style scoped>\n",
       "    .dataframe tbody tr th:only-of-type {\n",
       "        vertical-align: middle;\n",
       "    }\n",
       "\n",
       "    .dataframe tbody tr th {\n",
       "        vertical-align: top;\n",
       "    }\n",
       "\n",
       "    .dataframe thead th {\n",
       "        text-align: right;\n",
       "    }\n",
       "</style>\n",
       "<table border=\"1\" class=\"dataframe\">\n",
       "  <thead>\n",
       "    <tr style=\"text-align: right;\">\n",
       "      <th></th>\n",
       "      <th>RA</th>\n",
       "      <th>nota</th>\n",
       "    </tr>\n",
       "  </thead>\n",
       "  <tbody>\n",
       "    <tr>\n",
       "      <th>count</th>\n",
       "      <td>6.000000</td>\n",
       "      <td>6.000000</td>\n",
       "    </tr>\n",
       "    <tr>\n",
       "      <th>mean</th>\n",
       "      <td>3500.000000</td>\n",
       "      <td>90.000000</td>\n",
       "    </tr>\n",
       "    <tr>\n",
       "      <th>std</th>\n",
       "      <td>1870.828693</td>\n",
       "      <td>10.387492</td>\n",
       "    </tr>\n",
       "    <tr>\n",
       "      <th>min</th>\n",
       "      <td>1000.000000</td>\n",
       "      <td>75.000000</td>\n",
       "    </tr>\n",
       "    <tr>\n",
       "      <th>25%</th>\n",
       "      <td>2250.000000</td>\n",
       "      <td>82.500000</td>\n",
       "    </tr>\n",
       "    <tr>\n",
       "      <th>50%</th>\n",
       "      <td>3500.000000</td>\n",
       "      <td>93.250000</td>\n",
       "    </tr>\n",
       "    <tr>\n",
       "      <th>75%</th>\n",
       "      <td>4750.000000</td>\n",
       "      <td>98.000000</td>\n",
       "    </tr>\n",
       "    <tr>\n",
       "      <th>max</th>\n",
       "      <td>6000.000000</td>\n",
       "      <td>100.000000</td>\n",
       "    </tr>\n",
       "  </tbody>\n",
       "</table>\n",
       "</div>"
      ],
      "text/plain": [
       "                RA        nota\n",
       "count     6.000000    6.000000\n",
       "mean   3500.000000   90.000000\n",
       "std    1870.828693   10.387492\n",
       "min    1000.000000   75.000000\n",
       "25%    2250.000000   82.500000\n",
       "50%    3500.000000   93.250000\n",
       "75%    4750.000000   98.000000\n",
       "max    6000.000000  100.000000"
      ]
     },
     "execution_count": 9,
     "metadata": {},
     "output_type": "execute_result"
    }
   ],
   "source": [
    "# Resumo estatístico\n",
    "df_alunos.describe() "
   ]
  },
  {
   "cell_type": "markdown",
   "id": "cfb629bd",
   "metadata": {},
   "source": [
    "### **Leitura e Transformação de Arquivos Externos**"
   ]
  },
  {
   "cell_type": "markdown",
   "id": "9bfa034f",
   "metadata": {},
   "source": [
    "#### `.read_tipodoarquivo('nome_do_arquivo')`"
   ]
  },
  {
   "cell_type": "code",
   "execution_count": 10,
   "id": "12732ac7",
   "metadata": {},
   "outputs": [
    {
     "data": {
      "text/html": [
       "<div>\n",
       "<style scoped>\n",
       "    .dataframe tbody tr th:only-of-type {\n",
       "        vertical-align: middle;\n",
       "    }\n",
       "\n",
       "    .dataframe tbody tr th {\n",
       "        vertical-align: top;\n",
       "    }\n",
       "\n",
       "    .dataframe thead th {\n",
       "        text-align: right;\n",
       "    }\n",
       "</style>\n",
       "<table border=\"1\" class=\"dataframe\">\n",
       "  <thead>\n",
       "    <tr style=\"text-align: right;\">\n",
       "      <th></th>\n",
       "      <th>Aluno</th>\n",
       "      <th>D1</th>\n",
       "      <th>D2</th>\n",
       "      <th>D3</th>\n",
       "    </tr>\n",
       "  </thead>\n",
       "  <tbody>\n",
       "    <tr>\n",
       "      <th>0</th>\n",
       "      <td>Maria</td>\n",
       "      <td>13</td>\n",
       "      <td>20.0</td>\n",
       "      <td>14.0</td>\n",
       "    </tr>\n",
       "    <tr>\n",
       "      <th>1</th>\n",
       "      <td>João</td>\n",
       "      <td>16</td>\n",
       "      <td>17.0</td>\n",
       "      <td>20.0</td>\n",
       "    </tr>\n",
       "    <tr>\n",
       "      <th>2</th>\n",
       "      <td>José</td>\n",
       "      <td>20</td>\n",
       "      <td>16.0</td>\n",
       "      <td>19.0</td>\n",
       "    </tr>\n",
       "    <tr>\n",
       "      <th>3</th>\n",
       "      <td>Alexandre</td>\n",
       "      <td>18</td>\n",
       "      <td>16.0</td>\n",
       "      <td>NaN</td>\n",
       "    </tr>\n",
       "    <tr>\n",
       "      <th>4</th>\n",
       "      <td>Paulo</td>\n",
       "      <td>19</td>\n",
       "      <td>9.0</td>\n",
       "      <td>7.0</td>\n",
       "    </tr>\n",
       "    <tr>\n",
       "      <th>5</th>\n",
       "      <td>Carlos</td>\n",
       "      <td>9</td>\n",
       "      <td>10.0</td>\n",
       "      <td>11.0</td>\n",
       "    </tr>\n",
       "    <tr>\n",
       "      <th>6</th>\n",
       "      <td>Pedro</td>\n",
       "      <td>11</td>\n",
       "      <td>NaN</td>\n",
       "      <td>18.0</td>\n",
       "    </tr>\n",
       "    <tr>\n",
       "      <th>7</th>\n",
       "      <td>Joana</td>\n",
       "      <td>19</td>\n",
       "      <td>20.0</td>\n",
       "      <td>3.0</td>\n",
       "    </tr>\n",
       "    <tr>\n",
       "      <th>8</th>\n",
       "      <td>Carla</td>\n",
       "      <td>17</td>\n",
       "      <td>NaN</td>\n",
       "      <td>17.0</td>\n",
       "    </tr>\n",
       "    <tr>\n",
       "      <th>9</th>\n",
       "      <td>Joana</td>\n",
       "      <td>19</td>\n",
       "      <td>20.0</td>\n",
       "      <td>3.0</td>\n",
       "    </tr>\n",
       "  </tbody>\n",
       "</table>\n",
       "</div>"
      ],
      "text/plain": [
       "       Aluno  D1    D2    D3\n",
       "0      Maria  13  20.0  14.0\n",
       "1       João  16  17.0  20.0\n",
       "2       José  20  16.0  19.0\n",
       "3  Alexandre  18  16.0   NaN\n",
       "4      Paulo  19   9.0   7.0\n",
       "5     Carlos   9  10.0  11.0\n",
       "6      Pedro  11   NaN  18.0\n",
       "7      Joana  19  20.0   3.0\n",
       "8      Carla  17   NaN  17.0\n",
       "9      Joana  19  20.0   3.0"
      ]
     },
     "execution_count": 10,
     "metadata": {},
     "output_type": "execute_result"
    }
   ],
   "source": [
    "notas = pd.read_csv('Notas.csv', sep = ';')\n",
    "notas"
   ]
  },
  {
   "cell_type": "markdown",
   "id": "3c9829e7",
   "metadata": {},
   "source": [
    "#### `.shape`"
   ]
  },
  {
   "cell_type": "code",
   "execution_count": 11,
   "id": "9187da9d",
   "metadata": {},
   "outputs": [
    {
     "data": {
      "text/plain": [
       "(10, 4)"
      ]
     },
     "execution_count": 11,
     "metadata": {},
     "output_type": "execute_result"
    }
   ],
   "source": [
    "# Imprime a quantidade de linhas e colunas do DataFrame\n",
    "notas.shape"
   ]
  },
  {
   "cell_type": "markdown",
   "id": "4127f985",
   "metadata": {},
   "source": [
    "#### `.columns`"
   ]
  },
  {
   "cell_type": "code",
   "execution_count": 12,
   "id": "2a291ba4",
   "metadata": {},
   "outputs": [
    {
     "data": {
      "text/plain": [
       "Index(['Aluno', 'D1', 'D2', 'D3'], dtype='object')"
      ]
     },
     "execution_count": 12,
     "metadata": {},
     "output_type": "execute_result"
    }
   ],
   "source": [
    "# Exibe os nomes das colunas do DataFrame\n",
    "notas.columns"
   ]
  },
  {
   "cell_type": "markdown",
   "id": "e9d82a10",
   "metadata": {},
   "source": [
    "#### `Novas colunas com indexação`"
   ]
  },
  {
   "cell_type": "code",
   "execution_count": 13,
   "id": "527c0b8f",
   "metadata": {},
   "outputs": [
    {
     "data": {
      "text/html": [
       "<div>\n",
       "<style scoped>\n",
       "    .dataframe tbody tr th:only-of-type {\n",
       "        vertical-align: middle;\n",
       "    }\n",
       "\n",
       "    .dataframe tbody tr th {\n",
       "        vertical-align: top;\n",
       "    }\n",
       "\n",
       "    .dataframe thead th {\n",
       "        text-align: right;\n",
       "    }\n",
       "</style>\n",
       "<table border=\"1\" class=\"dataframe\">\n",
       "  <thead>\n",
       "    <tr style=\"text-align: right;\">\n",
       "      <th></th>\n",
       "      <th>Aluno</th>\n",
       "      <th>D1</th>\n",
       "      <th>D2</th>\n",
       "      <th>D3</th>\n",
       "      <th>Final</th>\n",
       "      <th>Media</th>\n",
       "    </tr>\n",
       "  </thead>\n",
       "  <tbody>\n",
       "    <tr>\n",
       "      <th>0</th>\n",
       "      <td>Maria</td>\n",
       "      <td>13</td>\n",
       "      <td>20.0</td>\n",
       "      <td>14.0</td>\n",
       "      <td>NaN</td>\n",
       "      <td>15.67</td>\n",
       "    </tr>\n",
       "    <tr>\n",
       "      <th>1</th>\n",
       "      <td>João</td>\n",
       "      <td>16</td>\n",
       "      <td>17.0</td>\n",
       "      <td>20.0</td>\n",
       "      <td>NaN</td>\n",
       "      <td>17.67</td>\n",
       "    </tr>\n",
       "    <tr>\n",
       "      <th>2</th>\n",
       "      <td>José</td>\n",
       "      <td>20</td>\n",
       "      <td>16.0</td>\n",
       "      <td>19.0</td>\n",
       "      <td>NaN</td>\n",
       "      <td>18.33</td>\n",
       "    </tr>\n",
       "    <tr>\n",
       "      <th>3</th>\n",
       "      <td>Alexandre</td>\n",
       "      <td>18</td>\n",
       "      <td>16.0</td>\n",
       "      <td>NaN</td>\n",
       "      <td>NaN</td>\n",
       "      <td>NaN</td>\n",
       "    </tr>\n",
       "    <tr>\n",
       "      <th>4</th>\n",
       "      <td>Paulo</td>\n",
       "      <td>19</td>\n",
       "      <td>9.0</td>\n",
       "      <td>7.0</td>\n",
       "      <td>NaN</td>\n",
       "      <td>11.67</td>\n",
       "    </tr>\n",
       "    <tr>\n",
       "      <th>5</th>\n",
       "      <td>Carlos</td>\n",
       "      <td>9</td>\n",
       "      <td>10.0</td>\n",
       "      <td>11.0</td>\n",
       "      <td>NaN</td>\n",
       "      <td>10.00</td>\n",
       "    </tr>\n",
       "    <tr>\n",
       "      <th>6</th>\n",
       "      <td>Pedro</td>\n",
       "      <td>11</td>\n",
       "      <td>NaN</td>\n",
       "      <td>18.0</td>\n",
       "      <td>NaN</td>\n",
       "      <td>NaN</td>\n",
       "    </tr>\n",
       "    <tr>\n",
       "      <th>7</th>\n",
       "      <td>Joana</td>\n",
       "      <td>19</td>\n",
       "      <td>20.0</td>\n",
       "      <td>3.0</td>\n",
       "      <td>NaN</td>\n",
       "      <td>14.00</td>\n",
       "    </tr>\n",
       "    <tr>\n",
       "      <th>8</th>\n",
       "      <td>Carla</td>\n",
       "      <td>17</td>\n",
       "      <td>NaN</td>\n",
       "      <td>17.0</td>\n",
       "      <td>NaN</td>\n",
       "      <td>NaN</td>\n",
       "    </tr>\n",
       "    <tr>\n",
       "      <th>9</th>\n",
       "      <td>Joana</td>\n",
       "      <td>19</td>\n",
       "      <td>20.0</td>\n",
       "      <td>3.0</td>\n",
       "      <td>NaN</td>\n",
       "      <td>14.00</td>\n",
       "    </tr>\n",
       "  </tbody>\n",
       "</table>\n",
       "</div>"
      ],
      "text/plain": [
       "       Aluno  D1    D2    D3  Final  Media\n",
       "0      Maria  13  20.0  14.0    NaN  15.67\n",
       "1       João  16  17.0  20.0    NaN  17.67\n",
       "2       José  20  16.0  19.0    NaN  18.33\n",
       "3  Alexandre  18  16.0   NaN    NaN    NaN\n",
       "4      Paulo  19   9.0   7.0    NaN  11.67\n",
       "5     Carlos   9  10.0  11.0    NaN  10.00\n",
       "6      Pedro  11   NaN  18.0    NaN    NaN\n",
       "7      Joana  19  20.0   3.0    NaN  14.00\n",
       "8      Carla  17   NaN  17.0    NaN    NaN\n",
       "9      Joana  19  20.0   3.0    NaN  14.00"
      ]
     },
     "execution_count": 13,
     "metadata": {},
     "output_type": "execute_result"
    }
   ],
   "source": [
    "import numpy as np\n",
    "\n",
    "notas['Final'] = np.nan\n",
    "notas['Media'] = round((notas['D1'] + notas['D2'] + notas['D3']) / 3, 2)\n",
    "notas"
   ]
  },
  {
   "cell_type": "markdown",
   "id": "1fd28374",
   "metadata": {},
   "source": [
    "#### `.duplicated()`"
   ]
  },
  {
   "cell_type": "code",
   "execution_count": 14,
   "id": "7e854129",
   "metadata": {},
   "outputs": [
    {
     "data": {
      "text/plain": [
       "0    False\n",
       "1    False\n",
       "2    False\n",
       "3    False\n",
       "4    False\n",
       "5    False\n",
       "6    False\n",
       "7    False\n",
       "8    False\n",
       "9     True\n",
       "dtype: bool"
      ]
     },
     "execution_count": 14,
     "metadata": {},
     "output_type": "execute_result"
    }
   ],
   "source": [
    "# Devolve True se houver valores duplicados\n",
    "notas.duplicated()"
   ]
  },
  {
   "cell_type": "code",
   "execution_count": 15,
   "id": "0264a60f",
   "metadata": {},
   "outputs": [
    {
     "data": {
      "text/plain": [
       "0    False\n",
       "1    False\n",
       "2    False\n",
       "3     True\n",
       "4    False\n",
       "5    False\n",
       "6    False\n",
       "7     True\n",
       "8     True\n",
       "9     True\n",
       "dtype: bool"
      ]
     },
     "execution_count": 15,
     "metadata": {},
     "output_type": "execute_result"
    }
   ],
   "source": [
    "# Podemos usar o subset para verificar apenas uma ou algumas colunas, ao invés do DataFrame inteiro\n",
    "\n",
    "notas.duplicated(subset=['D2'])"
   ]
  },
  {
   "cell_type": "markdown",
   "id": "7aeafe4e",
   "metadata": {},
   "source": [
    "#### `.drop_duplicates()`"
   ]
  },
  {
   "cell_type": "code",
   "execution_count": 16,
   "id": "8dbbb033",
   "metadata": {},
   "outputs": [
    {
     "data": {
      "text/html": [
       "<div>\n",
       "<style scoped>\n",
       "    .dataframe tbody tr th:only-of-type {\n",
       "        vertical-align: middle;\n",
       "    }\n",
       "\n",
       "    .dataframe tbody tr th {\n",
       "        vertical-align: top;\n",
       "    }\n",
       "\n",
       "    .dataframe thead th {\n",
       "        text-align: right;\n",
       "    }\n",
       "</style>\n",
       "<table border=\"1\" class=\"dataframe\">\n",
       "  <thead>\n",
       "    <tr style=\"text-align: right;\">\n",
       "      <th></th>\n",
       "      <th>Aluno</th>\n",
       "      <th>D1</th>\n",
       "      <th>D2</th>\n",
       "      <th>D3</th>\n",
       "      <th>Final</th>\n",
       "      <th>Media</th>\n",
       "    </tr>\n",
       "  </thead>\n",
       "  <tbody>\n",
       "    <tr>\n",
       "      <th>0</th>\n",
       "      <td>Maria</td>\n",
       "      <td>13</td>\n",
       "      <td>20.0</td>\n",
       "      <td>14.0</td>\n",
       "      <td>NaN</td>\n",
       "      <td>15.67</td>\n",
       "    </tr>\n",
       "    <tr>\n",
       "      <th>1</th>\n",
       "      <td>João</td>\n",
       "      <td>16</td>\n",
       "      <td>17.0</td>\n",
       "      <td>20.0</td>\n",
       "      <td>NaN</td>\n",
       "      <td>17.67</td>\n",
       "    </tr>\n",
       "    <tr>\n",
       "      <th>2</th>\n",
       "      <td>José</td>\n",
       "      <td>20</td>\n",
       "      <td>16.0</td>\n",
       "      <td>19.0</td>\n",
       "      <td>NaN</td>\n",
       "      <td>18.33</td>\n",
       "    </tr>\n",
       "    <tr>\n",
       "      <th>3</th>\n",
       "      <td>Alexandre</td>\n",
       "      <td>18</td>\n",
       "      <td>16.0</td>\n",
       "      <td>NaN</td>\n",
       "      <td>NaN</td>\n",
       "      <td>NaN</td>\n",
       "    </tr>\n",
       "    <tr>\n",
       "      <th>4</th>\n",
       "      <td>Paulo</td>\n",
       "      <td>19</td>\n",
       "      <td>9.0</td>\n",
       "      <td>7.0</td>\n",
       "      <td>NaN</td>\n",
       "      <td>11.67</td>\n",
       "    </tr>\n",
       "    <tr>\n",
       "      <th>5</th>\n",
       "      <td>Carlos</td>\n",
       "      <td>9</td>\n",
       "      <td>10.0</td>\n",
       "      <td>11.0</td>\n",
       "      <td>NaN</td>\n",
       "      <td>10.00</td>\n",
       "    </tr>\n",
       "    <tr>\n",
       "      <th>6</th>\n",
       "      <td>Pedro</td>\n",
       "      <td>11</td>\n",
       "      <td>NaN</td>\n",
       "      <td>18.0</td>\n",
       "      <td>NaN</td>\n",
       "      <td>NaN</td>\n",
       "    </tr>\n",
       "    <tr>\n",
       "      <th>7</th>\n",
       "      <td>Joana</td>\n",
       "      <td>19</td>\n",
       "      <td>20.0</td>\n",
       "      <td>3.0</td>\n",
       "      <td>NaN</td>\n",
       "      <td>14.00</td>\n",
       "    </tr>\n",
       "    <tr>\n",
       "      <th>8</th>\n",
       "      <td>Carla</td>\n",
       "      <td>17</td>\n",
       "      <td>NaN</td>\n",
       "      <td>17.0</td>\n",
       "      <td>NaN</td>\n",
       "      <td>NaN</td>\n",
       "    </tr>\n",
       "  </tbody>\n",
       "</table>\n",
       "</div>"
      ],
      "text/plain": [
       "       Aluno  D1    D2    D3  Final  Media\n",
       "0      Maria  13  20.0  14.0    NaN  15.67\n",
       "1       João  16  17.0  20.0    NaN  17.67\n",
       "2       José  20  16.0  19.0    NaN  18.33\n",
       "3  Alexandre  18  16.0   NaN    NaN    NaN\n",
       "4      Paulo  19   9.0   7.0    NaN  11.67\n",
       "5     Carlos   9  10.0  11.0    NaN  10.00\n",
       "6      Pedro  11   NaN  18.0    NaN    NaN\n",
       "7      Joana  19  20.0   3.0    NaN  14.00\n",
       "8      Carla  17   NaN  17.0    NaN    NaN"
      ]
     },
     "execution_count": 16,
     "metadata": {},
     "output_type": "execute_result"
    }
   ],
   "source": [
    "# Remove as linhas duplicadas, mantendo a primeira ocorrência.\n",
    "# inplace=True altera o DataFrame original, sem criar uma cópia.\n",
    "\n",
    "notas.drop_duplicates(inplace=True)\n",
    "notas"
   ]
  },
  {
   "cell_type": "markdown",
   "id": "0c7393a4",
   "metadata": {},
   "source": [
    "#### `Usando Filtros`"
   ]
  },
  {
   "cell_type": "code",
   "execution_count": 17,
   "id": "65ec3617",
   "metadata": {},
   "outputs": [
    {
     "data": {
      "text/html": [
       "<div>\n",
       "<style scoped>\n",
       "    .dataframe tbody tr th:only-of-type {\n",
       "        vertical-align: middle;\n",
       "    }\n",
       "\n",
       "    .dataframe tbody tr th {\n",
       "        vertical-align: top;\n",
       "    }\n",
       "\n",
       "    .dataframe thead th {\n",
       "        text-align: right;\n",
       "    }\n",
       "</style>\n",
       "<table border=\"1\" class=\"dataframe\">\n",
       "  <thead>\n",
       "    <tr style=\"text-align: right;\">\n",
       "      <th></th>\n",
       "      <th>Aluno</th>\n",
       "      <th>D3</th>\n",
       "    </tr>\n",
       "  </thead>\n",
       "  <tbody>\n",
       "    <tr>\n",
       "      <th>0</th>\n",
       "      <td>Maria</td>\n",
       "      <td>14.0</td>\n",
       "    </tr>\n",
       "    <tr>\n",
       "      <th>1</th>\n",
       "      <td>João</td>\n",
       "      <td>20.0</td>\n",
       "    </tr>\n",
       "    <tr>\n",
       "      <th>2</th>\n",
       "      <td>José</td>\n",
       "      <td>19.0</td>\n",
       "    </tr>\n",
       "    <tr>\n",
       "      <th>3</th>\n",
       "      <td>Alexandre</td>\n",
       "      <td>NaN</td>\n",
       "    </tr>\n",
       "    <tr>\n",
       "      <th>4</th>\n",
       "      <td>Paulo</td>\n",
       "      <td>7.0</td>\n",
       "    </tr>\n",
       "    <tr>\n",
       "      <th>5</th>\n",
       "      <td>Carlos</td>\n",
       "      <td>11.0</td>\n",
       "    </tr>\n",
       "    <tr>\n",
       "      <th>6</th>\n",
       "      <td>Pedro</td>\n",
       "      <td>18.0</td>\n",
       "    </tr>\n",
       "    <tr>\n",
       "      <th>7</th>\n",
       "      <td>Joana</td>\n",
       "      <td>3.0</td>\n",
       "    </tr>\n",
       "    <tr>\n",
       "      <th>8</th>\n",
       "      <td>Carla</td>\n",
       "      <td>17.0</td>\n",
       "    </tr>\n",
       "  </tbody>\n",
       "</table>\n",
       "</div>"
      ],
      "text/plain": [
       "       Aluno    D3\n",
       "0      Maria  14.0\n",
       "1       João  20.0\n",
       "2       José  19.0\n",
       "3  Alexandre   NaN\n",
       "4      Paulo   7.0\n",
       "5     Carlos  11.0\n",
       "6      Pedro  18.0\n",
       "7      Joana   3.0\n",
       "8      Carla  17.0"
      ]
     },
     "execution_count": 17,
     "metadata": {},
     "output_type": "execute_result"
    }
   ],
   "source": [
    "# Podemos visualizar o DataFrame filtrando os dados de acordo com uma condição\n",
    "notas[['Aluno', 'D3']]"
   ]
  },
  {
   "cell_type": "code",
   "execution_count": 18,
   "id": "30e5d550",
   "metadata": {},
   "outputs": [
    {
     "data": {
      "text/html": [
       "<div>\n",
       "<style scoped>\n",
       "    .dataframe tbody tr th:only-of-type {\n",
       "        vertical-align: middle;\n",
       "    }\n",
       "\n",
       "    .dataframe tbody tr th {\n",
       "        vertical-align: top;\n",
       "    }\n",
       "\n",
       "    .dataframe thead th {\n",
       "        text-align: right;\n",
       "    }\n",
       "</style>\n",
       "<table border=\"1\" class=\"dataframe\">\n",
       "  <thead>\n",
       "    <tr style=\"text-align: right;\">\n",
       "      <th></th>\n",
       "      <th>Aluno</th>\n",
       "      <th>D1</th>\n",
       "      <th>D2</th>\n",
       "      <th>D3</th>\n",
       "      <th>Final</th>\n",
       "      <th>Media</th>\n",
       "    </tr>\n",
       "  </thead>\n",
       "  <tbody>\n",
       "    <tr>\n",
       "      <th>0</th>\n",
       "      <td>Maria</td>\n",
       "      <td>13</td>\n",
       "      <td>20.0</td>\n",
       "      <td>14.0</td>\n",
       "      <td>NaN</td>\n",
       "      <td>15.67</td>\n",
       "    </tr>\n",
       "    <tr>\n",
       "      <th>1</th>\n",
       "      <td>João</td>\n",
       "      <td>16</td>\n",
       "      <td>17.0</td>\n",
       "      <td>20.0</td>\n",
       "      <td>NaN</td>\n",
       "      <td>17.67</td>\n",
       "    </tr>\n",
       "    <tr>\n",
       "      <th>2</th>\n",
       "      <td>José</td>\n",
       "      <td>20</td>\n",
       "      <td>16.0</td>\n",
       "      <td>19.0</td>\n",
       "      <td>NaN</td>\n",
       "      <td>18.33</td>\n",
       "    </tr>\n",
       "    <tr>\n",
       "      <th>5</th>\n",
       "      <td>Carlos</td>\n",
       "      <td>9</td>\n",
       "      <td>10.0</td>\n",
       "      <td>11.0</td>\n",
       "      <td>NaN</td>\n",
       "      <td>10.00</td>\n",
       "    </tr>\n",
       "    <tr>\n",
       "      <th>6</th>\n",
       "      <td>Pedro</td>\n",
       "      <td>11</td>\n",
       "      <td>NaN</td>\n",
       "      <td>18.0</td>\n",
       "      <td>NaN</td>\n",
       "      <td>NaN</td>\n",
       "    </tr>\n",
       "    <tr>\n",
       "      <th>8</th>\n",
       "      <td>Carla</td>\n",
       "      <td>17</td>\n",
       "      <td>NaN</td>\n",
       "      <td>17.0</td>\n",
       "      <td>NaN</td>\n",
       "      <td>NaN</td>\n",
       "    </tr>\n",
       "  </tbody>\n",
       "</table>\n",
       "</div>"
      ],
      "text/plain": [
       "    Aluno  D1    D2    D3  Final  Media\n",
       "0   Maria  13  20.0  14.0    NaN  15.67\n",
       "1    João  16  17.0  20.0    NaN  17.67\n",
       "2    José  20  16.0  19.0    NaN  18.33\n",
       "5  Carlos   9  10.0  11.0    NaN  10.00\n",
       "6   Pedro  11   NaN  18.0    NaN    NaN\n",
       "8   Carla  17   NaN  17.0    NaN    NaN"
      ]
     },
     "execution_count": 18,
     "metadata": {},
     "output_type": "execute_result"
    }
   ],
   "source": [
    "notas[(notas.D3 > 10)]"
   ]
  },
  {
   "cell_type": "code",
   "execution_count": 19,
   "id": "7d233fc9",
   "metadata": {},
   "outputs": [
    {
     "data": {
      "text/html": [
       "<div>\n",
       "<style scoped>\n",
       "    .dataframe tbody tr th:only-of-type {\n",
       "        vertical-align: middle;\n",
       "    }\n",
       "\n",
       "    .dataframe tbody tr th {\n",
       "        vertical-align: top;\n",
       "    }\n",
       "\n",
       "    .dataframe thead th {\n",
       "        text-align: right;\n",
       "    }\n",
       "</style>\n",
       "<table border=\"1\" class=\"dataframe\">\n",
       "  <thead>\n",
       "    <tr style=\"text-align: right;\">\n",
       "      <th></th>\n",
       "      <th>Aluno</th>\n",
       "      <th>D1</th>\n",
       "      <th>D2</th>\n",
       "      <th>D3</th>\n",
       "      <th>Final</th>\n",
       "      <th>Media</th>\n",
       "    </tr>\n",
       "  </thead>\n",
       "  <tbody>\n",
       "    <tr>\n",
       "      <th>6</th>\n",
       "      <td>Pedro</td>\n",
       "      <td>11</td>\n",
       "      <td>NaN</td>\n",
       "      <td>18.0</td>\n",
       "      <td>NaN</td>\n",
       "      <td>NaN</td>\n",
       "    </tr>\n",
       "    <tr>\n",
       "      <th>8</th>\n",
       "      <td>Carla</td>\n",
       "      <td>17</td>\n",
       "      <td>NaN</td>\n",
       "      <td>17.0</td>\n",
       "      <td>NaN</td>\n",
       "      <td>NaN</td>\n",
       "    </tr>\n",
       "  </tbody>\n",
       "</table>\n",
       "</div>"
      ],
      "text/plain": [
       "   Aluno  D1  D2    D3  Final  Media\n",
       "6  Pedro  11 NaN  18.0    NaN    NaN\n",
       "8  Carla  17 NaN  17.0    NaN    NaN"
      ]
     },
     "execution_count": 19,
     "metadata": {},
     "output_type": "execute_result"
    }
   ],
   "source": [
    "notas[(notas['D3'] >= notas['D1']) & (notas['D2'].isna())]"
   ]
  },
  {
   "cell_type": "code",
   "execution_count": 20,
   "id": "d67cc6e8",
   "metadata": {},
   "outputs": [
    {
     "data": {
      "text/html": [
       "<div>\n",
       "<style scoped>\n",
       "    .dataframe tbody tr th:only-of-type {\n",
       "        vertical-align: middle;\n",
       "    }\n",
       "\n",
       "    .dataframe tbody tr th {\n",
       "        vertical-align: top;\n",
       "    }\n",
       "\n",
       "    .dataframe thead th {\n",
       "        text-align: right;\n",
       "    }\n",
       "</style>\n",
       "<table border=\"1\" class=\"dataframe\">\n",
       "  <thead>\n",
       "    <tr style=\"text-align: right;\">\n",
       "      <th></th>\n",
       "      <th>Aluno</th>\n",
       "      <th>D1</th>\n",
       "      <th>D2</th>\n",
       "      <th>D3</th>\n",
       "      <th>Final</th>\n",
       "      <th>Media</th>\n",
       "    </tr>\n",
       "  </thead>\n",
       "  <tbody>\n",
       "    <tr>\n",
       "      <th>6</th>\n",
       "      <td>Pedro</td>\n",
       "      <td>11</td>\n",
       "      <td>NaN</td>\n",
       "      <td>18.0</td>\n",
       "      <td>NaN</td>\n",
       "      <td>NaN</td>\n",
       "    </tr>\n",
       "    <tr>\n",
       "      <th>8</th>\n",
       "      <td>Carla</td>\n",
       "      <td>17</td>\n",
       "      <td>NaN</td>\n",
       "      <td>17.0</td>\n",
       "      <td>NaN</td>\n",
       "      <td>NaN</td>\n",
       "    </tr>\n",
       "  </tbody>\n",
       "</table>\n",
       "</div>"
      ],
      "text/plain": [
       "   Aluno  D1  D2    D3  Final  Media\n",
       "6  Pedro  11 NaN  18.0    NaN    NaN\n",
       "8  Carla  17 NaN  17.0    NaN    NaN"
      ]
     },
     "execution_count": 20,
     "metadata": {},
     "output_type": "execute_result"
    }
   ],
   "source": [
    "# Filtrando usando o método query. Ideal para DataFrames grandes e usando variáveis.\n",
    "# Mais legível e fácil de entender e entender.\n",
    "\n",
    "notas.query('D3 >= D1 and D2.isna()')"
   ]
  },
  {
   "cell_type": "markdown",
   "id": "bbbe6e1b",
   "metadata": {},
   "source": [
    "#### `sort_values(by = 'coluna')`\n",
    "\n"
   ]
  },
  {
   "cell_type": "code",
   "execution_count": 21,
   "id": "d975341d",
   "metadata": {},
   "outputs": [
    {
     "data": {
      "text/html": [
       "<div>\n",
       "<style scoped>\n",
       "    .dataframe tbody tr th:only-of-type {\n",
       "        vertical-align: middle;\n",
       "    }\n",
       "\n",
       "    .dataframe tbody tr th {\n",
       "        vertical-align: top;\n",
       "    }\n",
       "\n",
       "    .dataframe thead th {\n",
       "        text-align: right;\n",
       "    }\n",
       "</style>\n",
       "<table border=\"1\" class=\"dataframe\">\n",
       "  <thead>\n",
       "    <tr style=\"text-align: right;\">\n",
       "      <th></th>\n",
       "      <th>Aluno</th>\n",
       "      <th>D1</th>\n",
       "      <th>D2</th>\n",
       "      <th>D3</th>\n",
       "      <th>Final</th>\n",
       "      <th>Media</th>\n",
       "    </tr>\n",
       "  </thead>\n",
       "  <tbody>\n",
       "    <tr>\n",
       "      <th>0</th>\n",
       "      <td>Maria</td>\n",
       "      <td>13</td>\n",
       "      <td>20.0</td>\n",
       "      <td>14.0</td>\n",
       "      <td>NaN</td>\n",
       "      <td>15.67</td>\n",
       "    </tr>\n",
       "    <tr>\n",
       "      <th>7</th>\n",
       "      <td>Joana</td>\n",
       "      <td>19</td>\n",
       "      <td>20.0</td>\n",
       "      <td>3.0</td>\n",
       "      <td>NaN</td>\n",
       "      <td>14.00</td>\n",
       "    </tr>\n",
       "    <tr>\n",
       "      <th>1</th>\n",
       "      <td>João</td>\n",
       "      <td>16</td>\n",
       "      <td>17.0</td>\n",
       "      <td>20.0</td>\n",
       "      <td>NaN</td>\n",
       "      <td>17.67</td>\n",
       "    </tr>\n",
       "    <tr>\n",
       "      <th>3</th>\n",
       "      <td>Alexandre</td>\n",
       "      <td>18</td>\n",
       "      <td>16.0</td>\n",
       "      <td>NaN</td>\n",
       "      <td>NaN</td>\n",
       "      <td>NaN</td>\n",
       "    </tr>\n",
       "    <tr>\n",
       "      <th>2</th>\n",
       "      <td>José</td>\n",
       "      <td>20</td>\n",
       "      <td>16.0</td>\n",
       "      <td>19.0</td>\n",
       "      <td>NaN</td>\n",
       "      <td>18.33</td>\n",
       "    </tr>\n",
       "    <tr>\n",
       "      <th>5</th>\n",
       "      <td>Carlos</td>\n",
       "      <td>9</td>\n",
       "      <td>10.0</td>\n",
       "      <td>11.0</td>\n",
       "      <td>NaN</td>\n",
       "      <td>10.00</td>\n",
       "    </tr>\n",
       "    <tr>\n",
       "      <th>4</th>\n",
       "      <td>Paulo</td>\n",
       "      <td>19</td>\n",
       "      <td>9.0</td>\n",
       "      <td>7.0</td>\n",
       "      <td>NaN</td>\n",
       "      <td>11.67</td>\n",
       "    </tr>\n",
       "    <tr>\n",
       "      <th>6</th>\n",
       "      <td>Pedro</td>\n",
       "      <td>11</td>\n",
       "      <td>NaN</td>\n",
       "      <td>18.0</td>\n",
       "      <td>NaN</td>\n",
       "      <td>NaN</td>\n",
       "    </tr>\n",
       "    <tr>\n",
       "      <th>8</th>\n",
       "      <td>Carla</td>\n",
       "      <td>17</td>\n",
       "      <td>NaN</td>\n",
       "      <td>17.0</td>\n",
       "      <td>NaN</td>\n",
       "      <td>NaN</td>\n",
       "    </tr>\n",
       "  </tbody>\n",
       "</table>\n",
       "</div>"
      ],
      "text/plain": [
       "       Aluno  D1    D2    D3  Final  Media\n",
       "0      Maria  13  20.0  14.0    NaN  15.67\n",
       "7      Joana  19  20.0   3.0    NaN  14.00\n",
       "1       João  16  17.0  20.0    NaN  17.67\n",
       "3  Alexandre  18  16.0   NaN    NaN    NaN\n",
       "2       José  20  16.0  19.0    NaN  18.33\n",
       "5     Carlos   9  10.0  11.0    NaN  10.00\n",
       "4      Paulo  19   9.0   7.0    NaN  11.67\n",
       "6      Pedro  11   NaN  18.0    NaN    NaN\n",
       "8      Carla  17   NaN  17.0    NaN    NaN"
      ]
     },
     "execution_count": 21,
     "metadata": {},
     "output_type": "execute_result"
    }
   ],
   "source": [
    "# Podemos usar o sort by para ordenar os dados de acordo com uma ou mais colunas\n",
    "notas.sort_values(by=['D2', 'D1'], ascending = [False, True]) #ascending = False ordena do maior para o menor"
   ]
  },
  {
   "cell_type": "markdown",
   "id": "b4b04df1",
   "metadata": {},
   "source": [
    "#### `groupby(['nome_coluna'])`"
   ]
  },
  {
   "cell_type": "markdown",
   "id": "ea8dc57a",
   "metadata": {},
   "source": [
    "Método de agrupamento por coluna a partir de linhas com valores iguais.  \n",
    "Para cada agrupamento, é necessário aplicar uma operação para gerar um ***resultado combinado***.  \n",
    "  \n",
    "Entre as operações disponíveis estão:\n",
    "- `sum()` == Calcula a soma dos valores em cada grupo.\n",
    "- `mean()` == Calcula a média dos valores em cada grupo. \n",
    "- `count()` | `size()` == Ambos calculam a número de valores de um grupo, mas o `count` ignora valores NaN e o `size` não ignora.\n",
    "- `min()` | `max()` == Encontram o valor mínimo e o valor máximo em cada grupo.\n",
    "- `std()` | `var()` == Calculam o desvio padrão e a variância dos valores em cada grupo.\n",
    "- `apply()` == Permite aplicar uma função personalizada a cada grupo."
   ]
  },
  {
   "cell_type": "code",
   "execution_count": 22,
   "id": "66651724",
   "metadata": {},
   "outputs": [
    {
     "data": {
      "text/plain": [
       "Aluno    13\n",
       "D1       13\n",
       "D2       13\n",
       "D3       13\n",
       "Curso    13\n",
       "Sexo     13\n",
       "dtype: int64"
      ]
     },
     "execution_count": 22,
     "metadata": {},
     "output_type": "execute_result"
    }
   ],
   "source": [
    "notas_graducao = pd.read_csv('Notas_Curso.csv')\n",
    "notas_graducao.count()"
   ]
  },
  {
   "cell_type": "code",
   "execution_count": 23,
   "id": "7c567db0",
   "metadata": {},
   "outputs": [
    {
     "data": {
      "text/html": [
       "<div>\n",
       "<style scoped>\n",
       "    .dataframe tbody tr th:only-of-type {\n",
       "        vertical-align: middle;\n",
       "    }\n",
       "\n",
       "    .dataframe tbody tr th {\n",
       "        vertical-align: top;\n",
       "    }\n",
       "\n",
       "    .dataframe thead th {\n",
       "        text-align: right;\n",
       "    }\n",
       "</style>\n",
       "<table border=\"1\" class=\"dataframe\">\n",
       "  <thead>\n",
       "    <tr style=\"text-align: right;\">\n",
       "      <th></th>\n",
       "      <th></th>\n",
       "      <th>Aluno</th>\n",
       "      <th>D1</th>\n",
       "      <th>D2</th>\n",
       "      <th>D3</th>\n",
       "    </tr>\n",
       "    <tr>\n",
       "      <th>Curso</th>\n",
       "      <th>Sexo</th>\n",
       "      <th></th>\n",
       "      <th></th>\n",
       "      <th></th>\n",
       "      <th></th>\n",
       "    </tr>\n",
       "  </thead>\n",
       "  <tbody>\n",
       "    <tr>\n",
       "      <th rowspan=\"2\" valign=\"top\">Engenharia da Computação</th>\n",
       "      <th>F</th>\n",
       "      <td>2</td>\n",
       "      <td>2</td>\n",
       "      <td>2</td>\n",
       "      <td>2</td>\n",
       "    </tr>\n",
       "    <tr>\n",
       "      <th>M</th>\n",
       "      <td>5</td>\n",
       "      <td>5</td>\n",
       "      <td>5</td>\n",
       "      <td>5</td>\n",
       "    </tr>\n",
       "    <tr>\n",
       "      <th rowspan=\"2\" valign=\"top\">Engenharia de Controle e Automação</th>\n",
       "      <th>F</th>\n",
       "      <td>2</td>\n",
       "      <td>2</td>\n",
       "      <td>2</td>\n",
       "      <td>2</td>\n",
       "    </tr>\n",
       "    <tr>\n",
       "      <th>M</th>\n",
       "      <td>1</td>\n",
       "      <td>1</td>\n",
       "      <td>1</td>\n",
       "      <td>1</td>\n",
       "    </tr>\n",
       "    <tr>\n",
       "      <th rowspan=\"2\" valign=\"top\">Sistemas de Informação</th>\n",
       "      <th>F</th>\n",
       "      <td>2</td>\n",
       "      <td>2</td>\n",
       "      <td>2</td>\n",
       "      <td>2</td>\n",
       "    </tr>\n",
       "    <tr>\n",
       "      <th>M</th>\n",
       "      <td>1</td>\n",
       "      <td>1</td>\n",
       "      <td>1</td>\n",
       "      <td>1</td>\n",
       "    </tr>\n",
       "  </tbody>\n",
       "</table>\n",
       "</div>"
      ],
      "text/plain": [
       "                                         Aluno  D1  D2  D3\n",
       "Curso                              Sexo                   \n",
       "Engenharia da Computação           F         2   2   2   2\n",
       "                                   M         5   5   5   5\n",
       "Engenharia de Controle e Automação F         2   2   2   2\n",
       "                                   M         1   1   1   1\n",
       "Sistemas de Informação             F         2   2   2   2\n",
       "                                   M         1   1   1   1"
      ]
     },
     "execution_count": 23,
     "metadata": {},
     "output_type": "execute_result"
    }
   ],
   "source": [
    "notas_graducao.groupby(['Curso', 'Sexo']).count()"
   ]
  },
  {
   "cell_type": "code",
   "execution_count": 24,
   "id": "c5f4bea2",
   "metadata": {},
   "outputs": [
    {
     "data": {
      "text/html": [
       "<div>\n",
       "<style scoped>\n",
       "    .dataframe tbody tr th:only-of-type {\n",
       "        vertical-align: middle;\n",
       "    }\n",
       "\n",
       "    .dataframe tbody tr th {\n",
       "        vertical-align: top;\n",
       "    }\n",
       "\n",
       "    .dataframe thead th {\n",
       "        text-align: right;\n",
       "    }\n",
       "</style>\n",
       "<table border=\"1\" class=\"dataframe\">\n",
       "  <thead>\n",
       "    <tr style=\"text-align: right;\">\n",
       "      <th></th>\n",
       "      <th></th>\n",
       "      <th>D1</th>\n",
       "      <th>D2</th>\n",
       "      <th>D3</th>\n",
       "    </tr>\n",
       "    <tr>\n",
       "      <th>Curso</th>\n",
       "      <th>Sexo</th>\n",
       "      <th></th>\n",
       "      <th></th>\n",
       "      <th></th>\n",
       "    </tr>\n",
       "  </thead>\n",
       "  <tbody>\n",
       "    <tr>\n",
       "      <th rowspan=\"2\" valign=\"top\">Engenharia da Computação</th>\n",
       "      <th>F</th>\n",
       "      <td>17.0</td>\n",
       "      <td>15.0</td>\n",
       "      <td>18.5</td>\n",
       "    </tr>\n",
       "    <tr>\n",
       "      <th>M</th>\n",
       "      <td>15.8</td>\n",
       "      <td>15.2</td>\n",
       "      <td>17.2</td>\n",
       "    </tr>\n",
       "    <tr>\n",
       "      <th rowspan=\"2\" valign=\"top\">Engenharia de Controle e Automação</th>\n",
       "      <th>F</th>\n",
       "      <td>19.0</td>\n",
       "      <td>18.5</td>\n",
       "      <td>19.0</td>\n",
       "    </tr>\n",
       "    <tr>\n",
       "      <th>M</th>\n",
       "      <td>9.0</td>\n",
       "      <td>10.0</td>\n",
       "      <td>11.0</td>\n",
       "    </tr>\n",
       "    <tr>\n",
       "      <th rowspan=\"2\" valign=\"top\">Sistemas de Informação</th>\n",
       "      <th>F</th>\n",
       "      <td>15.0</td>\n",
       "      <td>18.0</td>\n",
       "      <td>15.5</td>\n",
       "    </tr>\n",
       "    <tr>\n",
       "      <th>M</th>\n",
       "      <td>11.0</td>\n",
       "      <td>18.0</td>\n",
       "      <td>18.0</td>\n",
       "    </tr>\n",
       "  </tbody>\n",
       "</table>\n",
       "</div>"
      ],
      "text/plain": [
       "                                           D1    D2    D3\n",
       "Curso                              Sexo                  \n",
       "Engenharia da Computação           F     17.0  15.0  18.5\n",
       "                                   M     15.8  15.2  17.2\n",
       "Engenharia de Controle e Automação F     19.0  18.5  19.0\n",
       "                                   M      9.0  10.0  11.0\n",
       "Sistemas de Informação             F     15.0  18.0  15.5\n",
       "                                   M     11.0  18.0  18.0"
      ]
     },
     "execution_count": 24,
     "metadata": {},
     "output_type": "execute_result"
    }
   ],
   "source": [
    "notas_graducao.groupby(['Curso', 'Sexo']).mean('D1', 'D2', 'D3')"
   ]
  },
  {
   "cell_type": "markdown",
   "id": "fe09c55b",
   "metadata": {},
   "source": [
    "#### `.dropna(subset = ['coluna(s)'])`"
   ]
  },
  {
   "cell_type": "markdown",
   "id": "08b310cd",
   "metadata": {},
   "source": [
    "Remove valores NaN do DataFrame."
   ]
  },
  {
   "cell_type": "code",
   "execution_count": 25,
   "id": "3fe23838",
   "metadata": {},
   "outputs": [
    {
     "name": "stderr",
     "output_type": "stream",
     "text": [
      "C:\\Users\\mathe\\AppData\\Local\\Temp\\ipykernel_3040\\1703523315.py:2: SettingWithCopyWarning: \n",
      "A value is trying to be set on a copy of a slice from a DataFrame\n",
      "\n",
      "See the caveats in the documentation: https://pandas.pydata.org/pandas-docs/stable/user_guide/indexing.html#returning-a-view-versus-a-copy\n",
      "  notasD2.drop_duplicates(inplace=True)\n"
     ]
    },
    {
     "data": {
      "text/html": [
       "<div>\n",
       "<style scoped>\n",
       "    .dataframe tbody tr th:only-of-type {\n",
       "        vertical-align: middle;\n",
       "    }\n",
       "\n",
       "    .dataframe tbody tr th {\n",
       "        vertical-align: top;\n",
       "    }\n",
       "\n",
       "    .dataframe thead th {\n",
       "        text-align: right;\n",
       "    }\n",
       "</style>\n",
       "<table border=\"1\" class=\"dataframe\">\n",
       "  <thead>\n",
       "    <tr style=\"text-align: right;\">\n",
       "      <th></th>\n",
       "      <th>Aluno</th>\n",
       "      <th>D1</th>\n",
       "      <th>D2</th>\n",
       "      <th>D3</th>\n",
       "      <th>Final</th>\n",
       "      <th>Media</th>\n",
       "    </tr>\n",
       "  </thead>\n",
       "  <tbody>\n",
       "    <tr>\n",
       "      <th>0</th>\n",
       "      <td>Maria</td>\n",
       "      <td>13</td>\n",
       "      <td>20.0</td>\n",
       "      <td>14.0</td>\n",
       "      <td>NaN</td>\n",
       "      <td>15.67</td>\n",
       "    </tr>\n",
       "    <tr>\n",
       "      <th>1</th>\n",
       "      <td>João</td>\n",
       "      <td>16</td>\n",
       "      <td>17.0</td>\n",
       "      <td>20.0</td>\n",
       "      <td>NaN</td>\n",
       "      <td>17.67</td>\n",
       "    </tr>\n",
       "    <tr>\n",
       "      <th>2</th>\n",
       "      <td>José</td>\n",
       "      <td>20</td>\n",
       "      <td>16.0</td>\n",
       "      <td>19.0</td>\n",
       "      <td>NaN</td>\n",
       "      <td>18.33</td>\n",
       "    </tr>\n",
       "    <tr>\n",
       "      <th>3</th>\n",
       "      <td>Alexandre</td>\n",
       "      <td>18</td>\n",
       "      <td>16.0</td>\n",
       "      <td>NaN</td>\n",
       "      <td>NaN</td>\n",
       "      <td>NaN</td>\n",
       "    </tr>\n",
       "    <tr>\n",
       "      <th>4</th>\n",
       "      <td>Paulo</td>\n",
       "      <td>19</td>\n",
       "      <td>9.0</td>\n",
       "      <td>7.0</td>\n",
       "      <td>NaN</td>\n",
       "      <td>11.67</td>\n",
       "    </tr>\n",
       "    <tr>\n",
       "      <th>5</th>\n",
       "      <td>Carlos</td>\n",
       "      <td>9</td>\n",
       "      <td>10.0</td>\n",
       "      <td>11.0</td>\n",
       "      <td>NaN</td>\n",
       "      <td>10.00</td>\n",
       "    </tr>\n",
       "    <tr>\n",
       "      <th>7</th>\n",
       "      <td>Joana</td>\n",
       "      <td>19</td>\n",
       "      <td>20.0</td>\n",
       "      <td>3.0</td>\n",
       "      <td>NaN</td>\n",
       "      <td>14.00</td>\n",
       "    </tr>\n",
       "  </tbody>\n",
       "</table>\n",
       "</div>"
      ],
      "text/plain": [
       "       Aluno  D1    D2    D3  Final  Media\n",
       "0      Maria  13  20.0  14.0    NaN  15.67\n",
       "1       João  16  17.0  20.0    NaN  17.67\n",
       "2       José  20  16.0  19.0    NaN  18.33\n",
       "3  Alexandre  18  16.0   NaN    NaN    NaN\n",
       "4      Paulo  19   9.0   7.0    NaN  11.67\n",
       "5     Carlos   9  10.0  11.0    NaN  10.00\n",
       "7      Joana  19  20.0   3.0    NaN  14.00"
      ]
     },
     "execution_count": 25,
     "metadata": {},
     "output_type": "execute_result"
    }
   ],
   "source": [
    "notasD2 = notas.dropna(subset=['D2'])\n",
    "notasD2.drop_duplicates(inplace=True)\n",
    "notasD2"
   ]
  },
  {
   "cell_type": "markdown",
   "id": "8857f6ea",
   "metadata": {},
   "source": [
    "#### `.to_tipoarquivo('caminho do diretorio.tipoarquivo')`"
   ]
  },
  {
   "cell_type": "markdown",
   "id": "d5147cd7",
   "metadata": {},
   "source": [
    "Salva o dataframe como arquivo."
   ]
  },
  {
   "cell_type": "code",
   "execution_count": 26,
   "id": "cfbde128",
   "metadata": {},
   "outputs": [],
   "source": [
    "notasD2.to_csv('NotasD2.csv', index=False)"
   ]
  },
  {
   "cell_type": "markdown",
   "id": "bc641b2a",
   "metadata": {},
   "source": [
    "#### `.plot()`"
   ]
  },
  {
   "cell_type": "markdown",
   "id": "6ebc274a",
   "metadata": {},
   "source": [
    "A função `.plot()` permite a criação de um gráfico a partir do DataFrame.  \n",
    "Por padrão, é criado um gráfico de linha, mas podemos configurar outros tipos de gráficos."
   ]
  },
  {
   "cell_type": "code",
   "execution_count": 27,
   "id": "867a663b",
   "metadata": {},
   "outputs": [
    {
     "data": {
      "text/plain": [
       "<Axes: xlabel='Curso'>"
      ]
     },
     "execution_count": 27,
     "metadata": {},
     "output_type": "execute_result"
    },
    {
     "data": {
      "image/png": "[encoded data removed]",
      "text/plain": [
       "<Figure size 640x480 with 1 Axes>"
      ]
     },
     "metadata": {},
     "output_type": "display_data"
    }
   ],
   "source": [
    "notas_graducao['Curso'].value_counts().plot()"
   ]
  },
  {
   "cell_type": "code",
   "execution_count": 28,
   "id": "766ecff8",
   "metadata": {},
   "outputs": [
    {
     "data": {
      "text/plain": [
       "[Text(0.5, 0, 'Curso'), Text(0, 0.5, 'Qtd Alunos')]"
      ]
     },
     "execution_count": 28,
     "metadata": {},
     "output_type": "execute_result"
    },
    {
     "data": {
      "image/png": "[encoded data removed]",
      "text/plain": [
       "<Figure size 640x480 with 1 Axes>"
      ]
     },
     "metadata": {},
     "output_type": "display_data"
    }
   ],
   "source": [
    "notas_graducao['Curso'].value_counts().plot(kind = 'bar', title = 'Alunos por Curso').set(xlabel = 'Curso', ylabel = 'Qtd Alunos')"
   ]
  },
  {
   "cell_type": "code",
   "execution_count": 29,
   "id": "d5c4832f",
   "metadata": {},
   "outputs": [
    {
     "data": {
      "text/html": [
       "<div>\n",
       "<style scoped>\n",
       "    .dataframe tbody tr th:only-of-type {\n",
       "        vertical-align: middle;\n",
       "    }\n",
       "\n",
       "    .dataframe tbody tr th {\n",
       "        vertical-align: top;\n",
       "    }\n",
       "\n",
       "    .dataframe thead th {\n",
       "        text-align: right;\n",
       "    }\n",
       "</style>\n",
       "<table border=\"1\" class=\"dataframe\">\n",
       "  <thead>\n",
       "    <tr style=\"text-align: right;\">\n",
       "      <th></th>\n",
       "      <th>cidade</th>\n",
       "      <th>estado</th>\n",
       "      <th>data_coleta</th>\n",
       "      <th>temperatura</th>\n",
       "    </tr>\n",
       "  </thead>\n",
       "  <tbody>\n",
       "    <tr>\n",
       "      <th>0</th>\n",
       "      <td>Belo Horizonte</td>\n",
       "      <td>MG</td>\n",
       "      <td>11/01/2020</td>\n",
       "      <td>31</td>\n",
       "    </tr>\n",
       "    <tr>\n",
       "      <th>1</th>\n",
       "      <td>Belo Horizonte</td>\n",
       "      <td>MG</td>\n",
       "      <td>12/01/2020</td>\n",
       "      <td>30</td>\n",
       "    </tr>\n",
       "    <tr>\n",
       "      <th>2</th>\n",
       "      <td>Belo Horizonte</td>\n",
       "      <td>MG</td>\n",
       "      <td>13/01/2020</td>\n",
       "      <td>32</td>\n",
       "    </tr>\n",
       "  </tbody>\n",
       "</table>\n",
       "</div>"
      ],
      "text/plain": [
       "           cidade estado data_coleta  temperatura\n",
       "0  Belo Horizonte     MG  11/01/2020           31\n",
       "1  Belo Horizonte     MG  12/01/2020           30\n",
       "2  Belo Horizonte     MG  13/01/2020           32"
      ]
     },
     "execution_count": 29,
     "metadata": {},
     "output_type": "execute_result"
    }
   ],
   "source": [
    "temp = pd.read_csv('Temperatura.csv', sep = ';')\n",
    "temp.head(3)"
   ]
  },
  {
   "cell_type": "code",
   "execution_count": 30,
   "id": "aa660253",
   "metadata": {},
   "outputs": [
    {
     "data": {
      "text/plain": [
       "[Text(0.5, 0, 'Cidades'), Text(0, 0.5, 'Temperatura')]"
      ]
     },
     "execution_count": 30,
     "metadata": {},
     "output_type": "execute_result"
    },
    {
     "data": {
      "image/png": "[encoded data removed]",
      "text/plain": [
       "<Figure size 640x480 with 1 Axes>"
      ]
     },
     "metadata": {},
     "output_type": "display_data"
    }
   ],
   "source": [
    "temp.groupby(['cidade'])['temperatura'].mean().plot(\n",
    "    kind= 'bar', \n",
    "    title =\"Médias de Temperatura por Cidades em Belo Horizonte\").set(\n",
    "        xlabel = 'Cidades', \n",
    "        ylabel = 'Temperatura'\n",
    "        )"
   ]
  },
  {
   "cell_type": "code",
   "execution_count": 56,
   "id": "5ec7e67d",
   "metadata": {},
   "outputs": [
    {
     "data": {
      "image/png": "[encoded data removed]",
      "text/plain": [
       "<Figure size 1500x500 with 1 Axes>"
      ]
     },
     "metadata": {},
     "output_type": "display_data"
    }
   ],
   "source": [
    "# Filtrando por período\n",
    "temp['data_coleta'] = pd.to_datetime(temp['data_coleta'], format = '%d/%m/%Y')\n",
    "temp__cidade_periodo = temp.query('data_coleta >= \"20/01/2020\" and data_coleta <= \"27/01/2020\" and cidade == \"Belo Horizonte\"')\n",
    "temp__cidade_periodo.plot(\n",
    "    kind= 'bar', \n",
    "    x='data_coleta',\n",
    "    y='temperatura',\n",
    "    title =\"Médias de Temperatura em BH, entre 20/01 e 27/01\",\n",
    "    figsize=(15, 5),\n",
    "    ).set(\n",
    "        xlabel = 'Data da Coleta', \n",
    "        ylabel = 'Temperatura'\n",
    "        );\n"
   ]
  },
  {
   "cell_type": "markdown",
   "id": "ab0c6a08",
   "metadata": {},
   "source": [
    "---\n",
    "---\n",
    "# Aula 02 - Acessando o SQLite com o Pandas"
   ]
  },
  {
   "cell_type": "markdown",
   "id": "6730a85c",
   "metadata": {},
   "source": [
    "    SQLite é uma biblioteca desenvolvida na linguagem C que implementa um banco de dados.  \n",
    "    Software livre e de domínio público, simples e leve.  \n",
    "    Permite guardar um banco de dados em um único arquivo."
   ]
  },
  {
   "cell_type": "markdown",
   "id": "e45db631",
   "metadata": {},
   "source": [
    "Através da biblioteca sqlLite3, é possível realizar uma conexão com um banco de dados SQLite."
   ]
  },
  {
   "cell_type": "markdown",
   "id": "716f8716",
   "metadata": {},
   "source": [
    "## ▹ **Acessando o SQLite**"
   ]
  },
  {
   "cell_type": "markdown",
   "id": "c06426c1",
   "metadata": {},
   "source": [
    "Objeto para conexão do **SQLite**:\n",
    "- `conexao = sqlite3.connect(':memory')` == Banco de dados trabalhado em RAM, caso não queria gastar armazenamento do PC.\n",
    "- `conexao = sqlite3.connect(':memory')` == Banco de dados armazenado em arquivo em diretorio com final `.db`"
   ]
  },
  {
   "cell_type": "markdown",
   "id": "fba424f5",
   "metadata": {},
   "source": [
    "Objetos de manipulação do SQLite:  \n",
    "- `cursor`: objeto que permite manipular e navegar pelas registros do banco de dados.\n",
    "  - `cursor.execute`: executa comandos ***sql*** no banco de dados.\n",
    "  \n",
    "- `conexao.commit`: aplica as alterações no banco de dados.\n",
    "- `conexao.rollback`: descarta as alterações no banco de dados.\n",
    "- `conexao.close`: fecha a conexão"
   ]
  },
  {
   "cell_type": "markdown",
   "id": "c1cb8ef8",
   "metadata": {},
   "source": [
    "### **Criando a Conexão e o Banco de Dados**"
   ]
  },
  {
   "cell_type": "code",
   "execution_count": 32,
   "id": "9ecd8582",
   "metadata": {},
   "outputs": [],
   "source": [
    "import sqlite3\n",
    "conexao = sqlite3.connect('alunos.db') # Cria o banco de dados alunos.db, caso não exista"
   ]
  },
  {
   "cell_type": "code",
   "execution_count": 33,
   "id": "5742b2eb",
   "metadata": {},
   "outputs": [
    {
     "data": {
      "text/plain": [
       "<sqlite3.Cursor at 0x1b7c9762c40>"
      ]
     },
     "execution_count": 33,
     "metadata": {},
     "output_type": "execute_result"
    }
   ],
   "source": [
    "cursor = conexao.cursor() # Cria um cursor para executar comandos SQL no banco de dados\n",
    "\n",
    "sql = \"\"\"create table aluno(\n",
    "    idAluno integer primary key autoincrement,\n",
    "    nome varchar(100) not null,\n",
    "    sexo char(1))\"\"\"\n",
    "\n",
    "cursor.execute(sql) # Cria a tabela 'aluno' com os campos idAluno, nome e sexo no banco de dados"
   ]
  },
  {
   "cell_type": "markdown",
   "id": "df5b9cc5",
   "metadata": {},
   "source": [
    "### **Manipulando os Dados com SQL**"
   ]
  },
  {
   "cell_type": "code",
   "execution_count": 34,
   "id": "e33eae2d",
   "metadata": {},
   "outputs": [],
   "source": [
    "import numpy as np\n",
    "\n",
    "sql = \"\"\"insert into aluno (nome, sexo) values (?, ?)\"\"\"\n",
    "\n",
    "cursor.execute(sql, ['Alexandre', 'M']) # Insere apenas um registro em 'aluno'\n",
    "\n",
    "alunos = [\n",
    "    ['Silvia', 'F'],\n",
    "    ['Carlos', 'M'],\n",
    "    ['Maria', 'F'],\n",
    "    ['João', np.NaN]\n",
    "]\n",
    "\n",
    "# Iterando a lista de alunos para inserir diversos registros no banco de dados\n",
    "for aluno in alunos:\n",
    "    cursor.execute(sql, aluno)\n",
    "conexao.commit() # Salva as alterações no banco de dados"
   ]
  },
  {
   "cell_type": "code",
   "execution_count": 35,
   "id": "6975cb8f",
   "metadata": {},
   "outputs": [
    {
     "name": "stdout",
     "output_type": "stream",
     "text": [
      "(1, 'Alexandre', 'M')\n",
      "(2, 'Silvia', 'F')\n",
      "(3, 'Carlos', 'M')\n",
      "(4, 'Maria', 'F')\n",
      "(5, 'João', None)\n"
     ]
    }
   ],
   "source": [
    "sql = \"\"\"\n",
    "select * \n",
    "from aluno\n",
    "\"\"\"\n",
    "cursor.execute(sql)\n",
    "alunos = cursor.fetchall() # Busca todos os registros da tabela 'aluno'\n",
    " \n",
    "for aluno in alunos:\n",
    "    print(aluno)"
   ]
  },
  {
   "cell_type": "code",
   "execution_count": 36,
   "id": "03b2c268",
   "metadata": {},
   "outputs": [
    {
     "name": "stdout",
     "output_type": "stream",
     "text": [
      "ID: 2, Nome: Silvia, Sexo: F\n",
      "ID: 4, Nome: Maria, Sexo: F\n"
     ]
    }
   ],
   "source": [
    "sql = \"\"\"\n",
    "select *\n",
    "from aluno\n",
    "where idAluno >= ? and sexo = ?\n",
    "\"\"\"\n",
    "\n",
    "cursor.execute(sql, [2, 'F'])\n",
    "alunos = cursor.fetchall()\n",
    "\n",
    "for id, nome, sexo in alunos:\n",
    "    print(f'ID: {id}, Nome: {nome}, Sexo: {sexo}')"
   ]
  },
  {
   "cell_type": "markdown",
   "id": "0698ea6a",
   "metadata": {},
   "source": [
    "## ▹ **Usando o Pandas com o SQLite**"
   ]
  },
  {
   "cell_type": "code",
   "execution_count": 37,
   "id": "edf8ece6",
   "metadata": {},
   "outputs": [
    {
     "data": {
      "text/html": [
       "<div>\n",
       "<style scoped>\n",
       "    .dataframe tbody tr th:only-of-type {\n",
       "        vertical-align: middle;\n",
       "    }\n",
       "\n",
       "    .dataframe tbody tr th {\n",
       "        vertical-align: top;\n",
       "    }\n",
       "\n",
       "    .dataframe thead th {\n",
       "        text-align: right;\n",
       "    }\n",
       "</style>\n",
       "<table border=\"1\" class=\"dataframe\">\n",
       "  <thead>\n",
       "    <tr style=\"text-align: right;\">\n",
       "      <th></th>\n",
       "      <th>idAluno</th>\n",
       "      <th>nome</th>\n",
       "      <th>sexo</th>\n",
       "    </tr>\n",
       "  </thead>\n",
       "  <tbody>\n",
       "    <tr>\n",
       "      <th>2</th>\n",
       "      <td>3</td>\n",
       "      <td>Carlos</td>\n",
       "      <td>M</td>\n",
       "    </tr>\n",
       "    <tr>\n",
       "      <th>1</th>\n",
       "      <td>2</td>\n",
       "      <td>Silvia</td>\n",
       "      <td>F</td>\n",
       "    </tr>\n",
       "    <tr>\n",
       "      <th>4</th>\n",
       "      <td>5</td>\n",
       "      <td>João</td>\n",
       "      <td>None</td>\n",
       "    </tr>\n",
       "  </tbody>\n",
       "</table>\n",
       "</div>"
      ],
      "text/plain": [
       "   idAluno    nome  sexo\n",
       "2        3  Carlos     M\n",
       "1        2  Silvia     F\n",
       "4        5    João  None"
      ]
     },
     "execution_count": 37,
     "metadata": {},
     "output_type": "execute_result"
    }
   ],
   "source": [
    "# Criando um DataFrame a partir da consulta SQL\n",
    "sql = \"\"\"\n",
    "select * \n",
    "from aluno\n",
    "\"\"\"\n",
    "df_alunos = pd.read_sql_query(sql, conexao)\n",
    "df_alunos.sample(3)"
   ]
  },
  {
   "cell_type": "code",
   "execution_count": 38,
   "id": "2f91aaa4",
   "metadata": {},
   "outputs": [
    {
     "data": {
      "text/plain": [
       "<Axes: xlabel='sexo'>"
      ]
     },
     "execution_count": 38,
     "metadata": {},
     "output_type": "execute_result"
    },
    {
     "data": {
      "image/png": "[encoded data removed]",
      "text/plain": [
       "<Figure size 640x480 with 1 Axes>"
      ]
     },
     "metadata": {},
     "output_type": "display_data"
    }
   ],
   "source": [
    "df_alunos['sexo'].value_counts().plot(kind = 'bar')"
   ]
  },
  {
   "cell_type": "code",
   "execution_count": 39,
   "id": "5663884f",
   "metadata": {},
   "outputs": [
    {
     "data": {
      "text/html": [
       "<div>\n",
       "<style scoped>\n",
       "    .dataframe tbody tr th:only-of-type {\n",
       "        vertical-align: middle;\n",
       "    }\n",
       "\n",
       "    .dataframe tbody tr th {\n",
       "        vertical-align: top;\n",
       "    }\n",
       "\n",
       "    .dataframe thead th {\n",
       "        text-align: right;\n",
       "    }\n",
       "</style>\n",
       "<table border=\"1\" class=\"dataframe\">\n",
       "  <thead>\n",
       "    <tr style=\"text-align: right;\">\n",
       "      <th></th>\n",
       "      <th>Year</th>\n",
       "      <th>Month</th>\n",
       "      <th>Tmax</th>\n",
       "      <th>Tmin</th>\n",
       "      <th>Rain</th>\n",
       "      <th>Sun</th>\n",
       "    </tr>\n",
       "  </thead>\n",
       "  <tbody>\n",
       "    <tr>\n",
       "      <th>0</th>\n",
       "      <td>1957</td>\n",
       "      <td>1</td>\n",
       "      <td>8.7</td>\n",
       "      <td>2.7</td>\n",
       "      <td>39.5</td>\n",
       "      <td>53.0</td>\n",
       "    </tr>\n",
       "    <tr>\n",
       "      <th>1</th>\n",
       "      <td>1957</td>\n",
       "      <td>2</td>\n",
       "      <td>9.0</td>\n",
       "      <td>2.9</td>\n",
       "      <td>69.8</td>\n",
       "      <td>64.9</td>\n",
       "    </tr>\n",
       "    <tr>\n",
       "      <th>2</th>\n",
       "      <td>1957</td>\n",
       "      <td>3</td>\n",
       "      <td>13.9</td>\n",
       "      <td>5.7</td>\n",
       "      <td>25.4</td>\n",
       "      <td>96.7</td>\n",
       "    </tr>\n",
       "  </tbody>\n",
       "</table>\n",
       "</div>"
      ],
      "text/plain": [
       "   Year  Month  Tmax  Tmin  Rain   Sun\n",
       "0  1957      1   8.7   2.7  39.5  53.0\n",
       "1  1957      2   9.0   2.9  69.8  64.9\n",
       "2  1957      3  13.9   5.7  25.4  96.7"
      ]
     },
     "execution_count": 39,
     "metadata": {},
     "output_type": "execute_result"
    }
   ],
   "source": [
    "# Baixando o arquivo CSV de histórico de temperatura de Londres\n",
    "\n",
    "df_london_temp = pd.read_csv('https://github.com/alanjones2/dataviz/raw/master/londonweather.csv')\n",
    "df_london_temp.head(3)"
   ]
  },
  {
   "cell_type": "code",
   "execution_count": 40,
   "id": "163c537c",
   "metadata": {},
   "outputs": [
    {
     "data": {
      "text/plain": [
       "748"
      ]
     },
     "execution_count": 40,
     "metadata": {},
     "output_type": "execute_result"
    }
   ],
   "source": [
    "# Criando um banco de dados london_temp para usar com o SQLite\n",
    "london_con = sqlite3.connect('london_temp.db')\n",
    "\n",
    "# Subindo para o banco de dados as informações do DataFrame\n",
    "df_london_temp.to_sql('london_temp', london_con, if_exists='replace')"
   ]
  },
  {
   "cell_type": "code",
   "execution_count": 55,
   "id": "a53ab4b4",
   "metadata": {},
   "outputs": [
    {
     "data": {
      "image/png": "[encoded data removed]",
      "text/plain": [
       "<Figure size 2000x1000 with 1 Axes>"
      ]
     },
     "metadata": {},
     "output_type": "display_data"
    }
   ],
   "source": [
    "# Criando um DataFrame para cada ano da base de dados\n",
    "y2017 = pd.read_sql_query('SELECT * from london_temp WHERE Year = 2017', london_con)\n",
    "y2018 = pd.read_sql_query('SELECT * from london_temp WHERE Year = 2018', london_con)\n",
    "y2019 = pd.read_sql_query('SELECT * from london_temp WHERE Year = 2019', london_con)\n",
    "\n",
    "ax2018 = y2018.plot(y = 'Tmax')\n",
    "ax = y2017.plot(y = 'Tmax', ax = ax2018, color = 'red', figsize= (20, 10))\n",
    "ax.legend(['2017', '2018']);"
   ]
  },
  {
   "cell_type": "code",
   "execution_count": 49,
   "id": "4a9ae453",
   "metadata": {},
   "outputs": [
    {
     "data": {
      "text/html": [
       "<div>\n",
       "<style scoped>\n",
       "    .dataframe tbody tr th:only-of-type {\n",
       "        vertical-align: middle;\n",
       "    }\n",
       "\n",
       "    .dataframe tbody tr th {\n",
       "        vertical-align: top;\n",
       "    }\n",
       "\n",
       "    .dataframe thead th {\n",
       "        text-align: right;\n",
       "    }\n",
       "</style>\n",
       "<table border=\"1\" class=\"dataframe\">\n",
       "  <thead>\n",
       "    <tr style=\"text-align: right;\">\n",
       "      <th></th>\n",
       "      <th>Year</th>\n",
       "      <th>Tº Máxima</th>\n",
       "    </tr>\n",
       "  </thead>\n",
       "  <tbody>\n",
       "    <tr>\n",
       "      <th>15</th>\n",
       "      <td>1972</td>\n",
       "      <td>6.9</td>\n",
       "    </tr>\n",
       "    <tr>\n",
       "      <th>45</th>\n",
       "      <td>2002</td>\n",
       "      <td>9.5</td>\n",
       "    </tr>\n",
       "    <tr>\n",
       "      <th>36</th>\n",
       "      <td>1993</td>\n",
       "      <td>10.3</td>\n",
       "    </tr>\n",
       "  </tbody>\n",
       "</table>\n",
       "</div>"
      ],
      "text/plain": [
       "    Year  Tº Máxima\n",
       "15  1972        6.9\n",
       "45  2002        9.5\n",
       "36  1993       10.3"
      ]
     },
     "execution_count": 49,
     "metadata": {},
     "output_type": "execute_result"
    }
   ],
   "source": [
    "sql = \"\"\"\n",
    "SELECT year, tmax as 'Tº Máxima'\n",
    "FROM london_temp\n",
    "WHERE month = 1\n",
    "\"\"\"\n",
    "mesJaneiro = pd.read_sql(sql, london_con)\n",
    "mesJaneiro.sample(3)"
   ]
  },
  {
   "cell_type": "code",
   "execution_count": 53,
   "id": "41aa9688",
   "metadata": {},
   "outputs": [
    {
     "data": {
      "image/png": "[encoded data removed]",
      "text/plain": [
       "<Figure size 2000x500 with 1 Axes>"
      ]
     },
     "metadata": {},
     "output_type": "display_data"
    }
   ],
   "source": [
    "mesJaneiro.plot(y = 'Tº Máxima', x = 'Year', title = 'Temperatura Máxima em Janeiro', figsize=(20, 5));"
   ]
  },
  {
   "cell_type": "code",
   "execution_count": 60,
   "id": "9c888f28",
   "metadata": {},
   "outputs": [
    {
     "data": {
      "text/plain": [
       "Month\n",
       "7    19\n",
       "8    14\n",
       "6     2\n",
       "Name: count, dtype: int64"
      ]
     },
     "execution_count": 60,
     "metadata": {},
     "output_type": "execute_result"
    }
   ],
   "source": [
    "mesMaior = pd.read_sql('SELECT Month, tmax as \"Tº Máxima\" FROM london_temp WHERE \"Tº Máxima\" > 24', london_con)\n",
    "mesMaior['Month'].value_counts()"
   ]
  }
 ],
 "metadata": {
  "kernelspec": {
   "display_name": "base",
   "language": "python",
   "name": "python3"
  },
  "language_info": {
   "codemirror_mode": {
    "name": "ipython",
    "version": 3
   },
   "file_extension": ".py",
   "mimetype": "text/x-python",
   "name": "python",
   "nbconvert_exporter": "python",
   "pygments_lexer": "ipython3",
   "version": "3.12.7"
  }
 },
 "nbformat": 4,
 "nbformat_minor": 5
}
