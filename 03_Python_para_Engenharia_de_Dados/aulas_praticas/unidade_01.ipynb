{
 "cells": [
  {
   "cell_type": "markdown",
   "id": "bbd097e7",
   "metadata": {},
   "source": [
    "# Aula 01 - Introdução à linguagem Python"
   ]
  },
  {
   "cell_type": "markdown",
   "id": "3f5cb5c8",
   "metadata": {},
   "source": [
    "### **Variáveis**: \n",
    "Python é dinamicamente tipificado e flexível, ou seja, o tipo é definido durante a inicialização da variável"
   ]
  },
  {
   "cell_type": "code",
   "execution_count": null,
   "id": "4c61b97c",
   "metadata": {},
   "outputs": [
    {
     "name": "stdout",
     "output_type": "stream",
     "text": [
      "<class 'int'>\n",
      "30\n",
      "<class 'str'>\n"
     ]
    }
   ],
   "source": [
    "x = 10\n",
    "y = 20\n",
    "z = x + y\n",
    "print(type(x))\n",
    "print(z)\n",
    "x = 'python'\n",
    "print(type(x))"
   ]
  },
  {
   "cell_type": "markdown",
   "id": "257828ad",
   "metadata": {},
   "source": [
    "É considerada uma linguagem fortemente tipificada, pois verifica em tempo deesenvolvimento se o tipo de dado é compatível com o operador utilizado."
   ]
  },
  {
   "cell_type": "code",
   "execution_count": null,
   "id": "1ab35e7d",
   "metadata": {},
   "outputs": [
    {
     "ename": "TypeError",
     "evalue": "can only concatenate str (not \"int\") to str",
     "output_type": "error",
     "traceback": [
      "\u001b[1;31m---------------------------------------------------------------------------\u001b[0m",
      "\u001b[1;31mTypeError\u001b[0m                                 Traceback (most recent call last)",
      "Cell \u001b[1;32mIn[5], line 1\u001b[0m\n\u001b[1;32m----> 1\u001b[0m \u001b[38;5;28mprint\u001b[39m(x \u001b[38;5;241m+\u001b[39m y)\n",
      "\u001b[1;31mTypeError\u001b[0m: can only concatenate str (not \"int\") to str"
     ]
    }
   ],
   "source": [
    "print(x + y)\n",
    "# Tentar usar a mesma variável após ela ter sido redefinida gerou um erro de tipos incompatíveis"
   ]
  },
  {
   "cell_type": "markdown",
   "id": "6473b42a",
   "metadata": {},
   "source": [
    "---\n",
    "---\n",
    "\n",
    "# Aula 02 - Estrutura Sequencial"
   ]
  },
  {
   "cell_type": "markdown",
   "id": "13798e1f",
   "metadata": {},
   "source": [
    "### **Atribuição Múltipla**\n",
    "Uma lista de valores pode receber uma outra lista de valores"
   ]
  },
  {
   "cell_type": "code",
   "execution_count": null,
   "id": "26895906",
   "metadata": {},
   "outputs": [
    {
     "name": "stdout",
     "output_type": "stream",
     "text": [
      "10 20\n",
      "20 10\n"
     ]
    }
   ],
   "source": [
    "# ex: troca de valores entre variáveis\n",
    "a = 10\n",
    "b = 20\n",
    "print(a, b)\n",
    "a, b = b, a\n",
    "print(a, b)"
   ]
  },
  {
   "cell_type": "markdown",
   "id": "b55f0e91",
   "metadata": {},
   "source": [
    "### **Comando de entrada de dados (*Input*)**\n",
    "- Comando Input\n",
    "- Utilizado para receber dados do usuário. Os dados recebidos são salvos em **variáveis**.  \n",
    "- Retorna os dados como uma *string*"
   ]
  },
  {
   "cell_type": "code",
   "execution_count": null,
   "id": "839c4a18",
   "metadata": {},
   "outputs": [
    {
     "name": "stdout",
     "output_type": "stream",
     "text": [
      "coé, suhad. Manda os dados do seu cartão de crédito pra gente!\n"
     ]
    }
   ],
   "source": [
    "nome = input('qual é o seu nome, menor? ')\n",
    "print('coé, ' + nome + '. Manda os dados do seu cartão de crédito pra gente!')"
   ]
  },
  {
   "cell_type": "markdown",
   "id": "bb250971",
   "metadata": {},
   "source": [
    "Por ser fortemente tipificado e o comando de ***input*** retornar apenas ***strings***, se quiser usar esse tipo de comando para outros tipos de tarefas, como execução de expressões matemáticas, é preciso modificar o tipo da variável antes."
   ]
  },
  {
   "cell_type": "code",
   "execution_count": null,
   "id": "e8fbdee2",
   "metadata": {},
   "outputs": [
    {
     "name": "stdout",
     "output_type": "stream",
     "text": [
      "23 * 123 = 2829\n"
     ]
    }
   ],
   "source": [
    "numero1 = int(input('Digite o primeiro número: '))\n",
    "numero2 = int(input('Digite o segundo número: '))\n",
    "result = numero1 * numero2\n",
    "print(f'{numero1} * {numero2} = {result}')"
   ]
  },
  {
   "cell_type": "markdown",
   "id": "40f512fa",
   "metadata": {},
   "source": [
    "### **Comando de saída de dados (*print*)**"
   ]
  },
  {
   "cell_type": "code",
   "execution_count": null,
   "id": "2d6005be",
   "metadata": {},
   "outputs": [
    {
     "name": "stdout",
     "output_type": "stream",
     "text": [
      "122 elevado a 3 é 1815848.0\n",
      "Raiz de 122 é 11.045361017187261\n",
      "Raiz de 122 é 11.05\n"
     ]
    }
   ],
   "source": [
    "import math\n",
    "\n",
    "x = int(input('Digite um número: '))\n",
    "y = math.sqrt(x)\n",
    "z = math.pow(x, 3)\n",
    "print(f'{x} elevado a 3 é {z}')\n",
    "print(f'Raiz de {x} é {y}')\n",
    "print(f'Raiz de {x} é {y:.2f}') # .2f significa que o número será formatado para o tipo float e arredondado para duas casas decimais"
   ]
  },
  {
   "cell_type": "markdown",
   "id": "be025010",
   "metadata": {},
   "source": [
    "### **Operadores**\n",
    "\n",
    "![Operadores](https://raw.githubusercontent.com/vbs-matheus/PosGraduacao-EngDados/refs/heads/main/imgs/operadores_python.jpg)"
   ]
  },
  {
   "cell_type": "markdown",
   "id": "81f192ed",
   "metadata": {},
   "source": [
    "### **Desafio da aula**\n",
    "\n",
    "Desenvolver um programa para receber o ano de nascimento de uma pessoa, o ano atual e imprimir:\n",
    "- Idade da pessoa no ano atual\n",
    "- A idade que a pessoa terá em 2050"
   ]
  },
  {
   "cell_type": "code",
   "execution_count": null,
   "id": "8bbd2774",
   "metadata": {},
   "outputs": [
    {
     "name": "stdout",
     "output_type": "stream",
     "text": [
      "você tem, hoje, 32 anos. Em 2050 você terá 57 anos.\n"
     ]
    }
   ],
   "source": [
    "# Input do ano de nascimento e a data atual\n",
    "ano_nascimento = int(input('Qual é o ano de seu nascimento? '))\n",
    "ano_atual = int(input('Qual é o ano atual? '))\n",
    "\n",
    "# Cálculo da idade\n",
    "ano_futuro = 2050\n",
    "idade_atual = ano_atual - ano_nascimento\n",
    "idade_futura = ano_futuro - ano_nascimento\n",
    "print(f'Você tem, hoje, {idade_atual} anos. Em 2050 você terá {idade_futura} anos.')"
   ]
  },
  {
   "cell_type": "code",
   "execution_count": null,
   "id": "e6623dac",
   "metadata": {},
   "outputs": [
    {
     "name": "stdout",
     "output_type": "stream",
     "text": [
      "Você tem, hoje, 31 anos. Em 2050 você terá 57 anos.\n"
     ]
    }
   ],
   "source": [
    "# Versão melhorada do código\n",
    "from datetime import datetime\n",
    "\n",
    "ano_futuro = 2050\n",
    "data_atual = datetime.now()\n",
    "data_nascimento = input('Qual é a sua data de nascimento (dd/mm/yyyy)? ')\n",
    "data_nascimento = datetime.strptime(data_nascimento, '%d/%m/%Y')\n",
    "\n",
    "# Cálculo da idade\n",
    "if data_atual.month < data_nascimento.month or (data_atual.month == data_nascimento.month and data_atual.day < data_nascimento.day):\n",
    "    idade_atual = data_atual.year - data_nascimento.year - 1\n",
    "else:\n",
    "    idade_atual = data_atual.year - data_nascimento.year\n",
    "\n",
    "idade_futura = ano_futuro - data_nascimento.year\n",
    "\n",
    "print(f'Você tem, hoje, {idade_atual} anos. Em 2050 você terá {idade_futura} anos.')"
   ]
  },
  {
   "cell_type": "markdown",
   "id": "d8478901",
   "metadata": {},
   "source": [
    "---\n",
    "---\n",
    "\n",
    "# Aula 03 - Estrutura Condicional"
   ]
  },
  {
   "cell_type": "markdown",
   "id": "a03cee5f",
   "metadata": {},
   "source": [
    "### **Simples**\n",
    "- *if*\n",
    "\n",
    "### **Composta**\n",
    "- *if*\n",
    "- *elif*\n",
    "- *else*\n",
    "\n",
    "**Exemplo**: *ler dois números inteirose imprimir o maior e o menor número.  \n",
    "imprimir uma mensagem, caso os dois sejam iguais*"
   ]
  },
  {
   "cell_type": "code",
   "execution_count": 2,
   "id": "80748042",
   "metadata": {},
   "outputs": [
    {
     "name": "stdout",
     "output_type": "stream",
     "text": [
      "Os números são iguais\n"
     ]
    }
   ],
   "source": [
    "num1 = int(input('Digite o primeiro número: '))\n",
    "num2 = int(input('Digite o segundo número: '))\n",
    "\n",
    "if num1 > num2:\n",
    "    print(f'O maior número é {num1}')\n",
    "    print(f'O menor número é {num2}')\n",
    "elif num2 > num1:\n",
    "    print(f'O maior número é {num2}')\n",
    "    print(f'O menor número é {num1}')\n",
    "else:\n",
    "    print('Os números são iguais')"
   ]
  },
  {
   "cell_type": "markdown",
   "id": "9fd669ca",
   "metadata": {},
   "source": [
    "### **Operadores Lógicos**\n",
    "\n",
    "![Operadores Lógicos](https://raw.githubusercontent.com/vbs-matheus/PosGraduacao-EngDados/refs/heads/main/imgs/operadores_logicos_python.jpg)\n",
    "\n",
    "**Exemplo**: *Um programa que recebe como entrada os três lados de um triângulo e imprime o seu tipo*"
   ]
  },
  {
   "cell_type": "code",
   "execution_count": 4,
   "id": "da86355b",
   "metadata": {},
   "outputs": [
    {
     "name": "stdout",
     "output_type": "stream",
     "text": [
      "O triângulo é isósceles\n"
     ]
    }
   ],
   "source": [
    "lado_a = float(input('Digite o lado A do triângulo: '))\n",
    "lado_b = float(input('Digite o lado B do triângulo: '))\n",
    "lado_c = float(input('Digite o lado C do triângulo: '))\n",
    "\n",
    "if lado_a == lado_b and lado_b == lado_c:\n",
    "    print('O triângulo é equilátero')\n",
    "elif lado_a == lado_b or lado_b == lado_c or lado_a == lado_c:\n",
    "    print('O triângulo é isósceles')\n",
    "else:\n",
    "    print('O triângulo é escaleno')"
   ]
  },
  {
   "cell_type": "markdown",
   "id": "ba567ed6",
   "metadata": {},
   "source": [
    "### **Desafio da Aula**\n",
    "\n",
    "Fazer um programa que recebe 3 notas de um aluno, calcula e mostra uma mensagem de acordo com a sua média:\n",
    "- 0 = x <= 3  ->  **REPROVADO** \n",
    "- 3 < x < 7  ->  **PROVA FINAL**\n",
    "- x >= 7  ->  **APROVADO**"
   ]
  },
  {
   "cell_type": "code",
   "execution_count": null,
   "id": "1912da54",
   "metadata": {},
   "outputs": [
    {
     "name": "stdout",
     "output_type": "stream",
     "text": [
      "A média do aluno é igual a 3.63. O aluno está em PROVA FINAL.\n"
     ]
    }
   ],
   "source": [
    "nota1 = float(input('Digite a primeira nota: '))\n",
    "nota2 = float(input('Digite a segunda nota: '))\n",
    "nota3 = float(input('Digite a terceira nota: '))\n",
    "\n",
    "notas = [nota1, nota2, nota3]\n",
    "media = sum(notas) / len(notas)\n",
    "\n",
    "if media == 0 or media < 3:\n",
    "    print(f'A média do aluno é igual a {media:.2f}. O aluno foi REPROVADO.')\n",
    "elif media >= 3 and media < 7:\n",
    "    print(f'A média do aluno é igual a {media:.2f}. O aluno está em PROVA FINAL.')\n",
    "else:\n",
    "    print(f'A média do aluno é igual a {media:.2f}. O aluno foi APROVADO.')"
   ]
  },
  {
   "cell_type": "markdown",
   "id": "a65dcefe",
   "metadata": {},
   "source": [
    "---\n",
    "---\n",
    "\n",
    "# Aula 04 - Estruturas de Repetição"
   ]
  },
  {
   "cell_type": "markdown",
   "id": "584442e8",
   "metadata": {},
   "source": [
    "### *for*:  \n",
    "    Para número definido de repetições. Itera/percorre listas de valores ou coleções,  \n",
    "    podendo ser numético ou string."
   ]
  },
  {
   "cell_type": "code",
   "execution_count": null,
   "id": "0ba16fea",
   "metadata": {},
   "outputs": [],
   "source": [
    "for i in range(5):  # itera de 0 a 4\n",
    "    print(i)\n",
    "for i in range(1, 6):  # itera de 1 a 5\n",
    "    print(i)\n",
    "for i in range(0, 7, 2):  # itera de 0 a 6 com passo 2\n",
    "    print(i)"
   ]
  },
  {
   "cell_type": "code",
   "execution_count": 19,
   "id": "9a788967",
   "metadata": {},
   "outputs": [
    {
     "name": "stdout",
     "output_type": "stream",
     "text": [
      "p\n",
      "y\n",
      "t\n",
      "h\n",
      "o\n",
      "n\n"
     ]
    }
   ],
   "source": [
    "for letra in 'python':\n",
    "    print(letra)"
   ]
  },
  {
   "cell_type": "markdown",
   "id": "a45fe6a4",
   "metadata": {},
   "source": [
    "### *while*:  \n",
    "    Pode ser usado tanto para um número indefinido de repetições, quanto para um número definido.  \n",
    "    Tomar cuidado para não gera loop infinito."
   ]
  },
  {
   "cell_type": "code",
   "execution_count": 23,
   "id": "b1603b3b",
   "metadata": {},
   "outputs": [
    {
     "name": "stdout",
     "output_type": "stream",
     "text": [
      "Idade inválida. Digita uma idade válida\n",
      "Idade inválida. Digita uma idade válida\n",
      "Você é menor de idade, digite uma idade válida\n",
      "Você é menor de idade, digite uma idade válida\n",
      "Você é maior de idade, pode entrar\n"
     ]
    }
   ],
   "source": [
    "idade = int(input('Digite sua idade: '))\n",
    "\n",
    "while idade < 0:\n",
    "    print('Idade inválida. Digita uma idade válida')\n",
    "    idade = int(input('Digite sua idade: '))\n",
    "while idade < 18:\n",
    "    print('Você é menor de idade, digite uma idade válida')\n",
    "    idade = int(input('Digite sua idade: '))\n",
    "print('Você é maior de idade, pode entrar')"
   ]
  },
  {
   "cell_type": "markdown",
   "id": "57874ae4",
   "metadata": {},
   "source": [
    "### **Desafio da Aula**\n",
    "\n",
    "    Faça um programa que solicite ao usuário que informe um número inicial e um final. O programa deve imprimir todos os números inteiros no intervalo entre os dois número informados, sempre de forma crescente."
   ]
  },
  {
   "cell_type": "code",
   "execution_count": 29,
   "id": "d4caaf5b",
   "metadata": {},
   "outputs": [
    {
     "name": "stdout",
     "output_type": "stream",
     "text": [
      "1\n",
      "2\n",
      "3\n"
     ]
    }
   ],
   "source": [
    "num1 = int(input('Digite o primeiro número: '))\n",
    "num2 = int(input('Digite o segundo número: '))\n",
    "\n",
    "if num1 > num2:\n",
    "    num1, num2 = num2, num1\n",
    "\n",
    "for i in range(num1, num2 + 1):\n",
    "    print(i)"
   ]
  },
  {
   "cell_type": "markdown",
   "id": "5aeaa1f2",
   "metadata": {},
   "source": [
    "---\n",
    "---\n",
    "# Aula 05 - Estrutura de Dados"
   ]
  },
  {
   "cell_type": "markdown",
   "id": "52627ad0",
   "metadata": {},
   "source": [
    "    A próprio sintaxe define o tipo da estrutura:  \n",
    "     [ ] - Lista  \n",
    "     ( ) - Tupla\n",
    "     { } - Dicionário ou coleção"
   ]
  },
  {
   "cell_type": "markdown",
   "id": "0902a4f1",
   "metadata": {},
   "source": [
    "## ▹ *Listas - ***list**** [ ]"
   ]
  },
  {
   "cell_type": "markdown",
   "id": "bebb31e0",
   "metadata": {},
   "source": [
    "    Os elementos de uma lista podem ser acessados por meio de índices, que começam em 0.  \n",
    "    \n",
    "Por exemplo:"
   ]
  },
  {
   "cell_type": "code",
   "execution_count": 16,
   "id": "0918681e",
   "metadata": {},
   "outputs": [
    {
     "name": "stdout",
     "output_type": "stream",
     "text": [
      "1\n",
      "python\n",
      "[1, 2, 3]\n",
      "2\n"
     ]
    }
   ],
   "source": [
    "lista_1 = []\n",
    "lista_2 = [1,2,'python',[1,2,3]]\n",
    "\n",
    "print(lista_2[0]) #primeio item da lista\n",
    "print(lista_2[2]) #terceiro item da lista\n",
    "print(lista_2[3]) #quarto item da lista, que é uma lista\n",
    "print(lista_2[3][1]) #segundo item da lista que está dentro da lista principal"
   ]
  },
  {
   "cell_type": "markdown",
   "id": "204d58d6",
   "metadata": {},
   "source": [
    "### Operadores comuns em *listas*:"
   ]
  },
  {
   "cell_type": "markdown",
   "id": "d56381a9",
   "metadata": {},
   "source": [
    "- ***in*** == operador para iteração ou resultado booleano\n",
    "- ***len*** == retorna o tamanho da lista  \n",
    "  \n",
    "<u>Operadores para adicionar itens à lista</u>:  \n",
    "  \n",
    "- ***append*** == adiciona um item ao final da lista\n",
    "- ***insert*** == adiciona um item em um índice específico da lista  \n",
    "  \n",
    "<u>Operadores matemáticos</u>:  \n",
    "  \n",
    "- ***sum*** == gera a soma de valores de uma lista\n",
    "- ***max*** == retorna o maior valor de uma lista\n",
    "- ***min*** == retorna o menor valor de uma lista\n",
    "\n",
    "  \n",
    "<u>Operadores para remover itens da lista</u>:  \n",
    "\n",
    "- ***pop*** == remove o último elemento de uma lista. Por padrão o último elemente, mas pode remover de um índice específico fornecido.\n",
    "- ***remove*** == remove um elemente específico da lista \n",
    "   \n",
    "<u>Operadores de ordenação da lista</u>:  \n",
    "  \n",
    "- ***sort*** == deixa a lista ordenada\n",
    "- ***reverse*** == inverte a ordem da lista\n",
    "\n"
   ]
  },
  {
   "cell_type": "markdown",
   "id": "f3477b37",
   "metadata": {},
   "source": [
    "Podemos usar o operador ***in*** para conferir se um item está em uma lista ou até para iterar ela.  \n",
    "    \n",
    "O ***len*** é utilizado para contar a quantidade total de itens dentro de uma lista. Contudo, para casos de estruturas dentro da lista, como exemplo na `lista_2`, a outra lista dentro dela conta como apenas **01** item, independente da quantidade de itens dentro dessa outra lista."
   ]
  },
  {
   "cell_type": "code",
   "execution_count": 17,
   "id": "b075062f",
   "metadata": {},
   "outputs": [
    {
     "name": "stdout",
     "output_type": "stream",
     "text": [
      "4\n",
      "1\n",
      "2\n",
      "3\n",
      "False\n",
      "True\n"
     ]
    }
   ],
   "source": [
    "print(len(lista_2)) #tamanho da lista\n",
    "\n",
    "for i in lista_2[3]:\n",
    "    print(i)\n",
    "\n",
    "print('teste' in lista_2) #Retorna False\n",
    "print('python' in lista_2) #Retorna True\n"
   ]
  },
  {
   "cell_type": "markdown",
   "id": "7c7354db",
   "metadata": {},
   "source": [
    "Para listas contendo apenas valores numérios (***int***, ***float***), podemos utilizar os métodos ***sum***, ***max***, ***max***"
   ]
  },
  {
   "cell_type": "code",
   "execution_count": 18,
   "id": "1fc4f9fb",
   "metadata": {},
   "outputs": [
    {
     "name": "stdout",
     "output_type": "stream",
     "text": [
      "15\n",
      "5\n",
      "1\n"
     ]
    }
   ],
   "source": [
    "lista_3 = [1,2,3,4,5]\n",
    "print(sum(lista_3))\n",
    "print(max(lista_3))\n",
    "print(min(lista_3))"
   ]
  },
  {
   "cell_type": "markdown",
   "id": "2be4cf11",
   "metadata": {},
   "source": [
    "Exemplo de utilização do ***append*** e do ***insert***:"
   ]
  },
  {
   "cell_type": "code",
   "execution_count": 19,
   "id": "f2995543",
   "metadata": {},
   "outputs": [
    {
     "name": "stdout",
     "output_type": "stream",
     "text": [
      "['foi adicionado']\n",
      "[1, 22, 2, 3, 4, 5]\n"
     ]
    }
   ],
   "source": [
    "lista_1.append('foi adicionado')\n",
    "lista_3.insert(1, 22) # Adiciona o número 1 na posição 22\n",
    "\n",
    "print(lista_1)\n",
    "print(lista_3)"
   ]
  },
  {
   "cell_type": "markdown",
   "id": "a8c469e9",
   "metadata": {},
   "source": [
    "Exemplo de utilização do ***pop*** e do ***remove***:  "
   ]
  },
  {
   "cell_type": "code",
   "execution_count": 20,
   "id": "5bc76fd5",
   "metadata": {},
   "outputs": [
    {
     "name": "stdout",
     "output_type": "stream",
     "text": [
      "[1, [1, 2, 3]]\n",
      "[1, 22, 2, 3, 4]\n"
     ]
    }
   ],
   "source": [
    "lista_2.pop(1) # Remove o segundo item da lista\n",
    "lista_2.remove('python') # Remove o item python da lista\n",
    "lista_3.pop() # Remove o ultimo item da lista\n",
    "\n",
    "print(lista_2)\n",
    "print(lista_3)"
   ]
  },
  {
   "cell_type": "markdown",
   "id": "5b6ad1ce",
   "metadata": {},
   "source": [
    "Exemplo de utilização do ***sort*** e ***reverse***"
   ]
  },
  {
   "cell_type": "code",
   "execution_count": 21,
   "id": "3aeede01",
   "metadata": {},
   "outputs": [
    {
     "name": "stdout",
     "output_type": "stream",
     "text": [
      "[1, 2, 3, 4, 22]\n",
      "[22, 4, 3, 2, 1]\n"
     ]
    }
   ],
   "source": [
    "lista_3.sort() # Ordena a lista\n",
    "print(lista_3)\n",
    "\n",
    "lista_3.reverse() # Inverte a lista\n",
    "print(lista_3)"
   ]
  },
  {
   "cell_type": "markdown",
   "id": "29ccf958",
   "metadata": {},
   "source": [
    "<u>Operador <strong><i>split</strong></i></u>:  \n",
    "  \n",
    "- ***split*** == Um operador voltado para classe do tipo ***string***. Ele 'parte' uma string em uma lista de acordo com um *separador*.  \n",
    "\n",
    "  \n",
    "Exemplo:"
   ]
  },
  {
   "cell_type": "code",
   "execution_count": 26,
   "id": "120992bd",
   "metadata": {},
   "outputs": [
    {
     "name": "stdout",
     "output_type": "stream",
     "text": [
      "['28', '02', '2023']\n",
      "['aula', 'de', 'python', 'da', 'puc', 'minas']\n",
      "28\n",
      "02\n",
      "2023\n"
     ]
    }
   ],
   "source": [
    "data = '28/02/2023'\n",
    "frase = 'aula de python da puc minas'\n",
    "dia, mes, ano = data.split('/')\n",
    "print(data.split('/')) # / é o separador\n",
    "print(frase.split(' ')) # ' ' é o separador\n",
    "print(dia)\n",
    "print(mes)\n",
    "print(ano)"
   ]
  },
  {
   "cell_type": "markdown",
   "id": "c47e2b5b",
   "metadata": {},
   "source": [
    "### 1º Desafio da Aula:\n",
    "    Solicite ao usuário que faça o input de uma data no formato `dd/mm/aaaa` e imprima a data por extenso.\n"
   ]
  },
  {
   "cell_type": "code",
   "execution_count": 24,
   "id": "e64ee72f",
   "metadata": {},
   "outputs": [
    {
     "name": "stdout",
     "output_type": "stream",
     "text": [
      "14 de Abril de 2036\n"
     ]
    }
   ],
   "source": [
    "data = input('Digite uma data (dd/mm/yyyy): ')\n",
    "dia, mes, ano = data.split('/')\n",
    "mes = int(mes)\n",
    "\n",
    "meses = ['Janeiro', 'Fevereiro', 'Março', \n",
    "         'Abril', 'Maio', 'Junho', \n",
    "         'Julho', 'Agosto', 'Setembro', \n",
    "         'Outubro', 'Novembro', 'Dezembro']\n",
    "\n",
    "print(f'{dia} de {meses[mes-1]} de {ano}')"
   ]
  },
  {
   "cell_type": "markdown",
   "id": "59c20688",
   "metadata": {},
   "source": [
    "## ▹ *Tuplas - ***tuple**** ( )"
   ]
  },
  {
   "cell_type": "markdown",
   "id": "1793f309",
   "metadata": {},
   "source": [
    "    Tuplas são estruturas imutáveis, fixas. Uma vez criada, não é possível acrescentar ou remover itens de sua composição  \n",
    "    Por ser uma estrutura imutável, ela é mais eficiente e mais leve que a lista.  "
   ]
  },
  {
   "cell_type": "markdown",
   "id": "d1fcd679",
   "metadata": {},
   "source": [
    "Em sua sintaxe, durante acriação, se só houver um elemento dentro da tupla, o mesmo deve ser seguido de vírgula:\n"
   ]
  },
  {
   "cell_type": "code",
   "execution_count": 27,
   "id": "28942274",
   "metadata": {},
   "outputs": [
    {
     "name": "stdout",
     "output_type": "stream",
     "text": [
      "<class 'tuple'> <class 'tuple'> <class 'tuple'> <class 'int'>\n"
     ]
    }
   ],
   "source": [
    "tupla_1 = (1, 3, 5, 2, 4)\n",
    "tupla_2 = ()\n",
    "tupla_3 = (10,)\n",
    "tupla_4 = (10) # Isso não é uma tupla. o type vai retornar int\n",
    "\n",
    "print(type(tupla_1), type(tupla_2), type(tupla_3), type(tupla_4))\n"
   ]
  },
  {
   "cell_type": "markdown",
   "id": "08ca039c",
   "metadata": {},
   "source": [
    "No **python**, quando uma função retorna mais de um valor, o retorno acontece em forma de ***tupla***"
   ]
  },
  {
   "cell_type": "code",
   "execution_count": 28,
   "id": "0fdfc567",
   "metadata": {},
   "outputs": [
    {
     "name": "stdout",
     "output_type": "stream",
     "text": [
      "<class 'tuple'>\n"
     ]
    }
   ],
   "source": [
    "def retornar_tupla():\n",
    "    return 1, 2, 3, 4, 5\n",
    "\n",
    "teste = retornar_tupla()\n",
    "print(type(teste))"
   ]
  },
  {
   "cell_type": "markdown",
   "id": "39b524ec",
   "metadata": {},
   "source": [
    "## ▹ *Dicionário - ***dict**** ( )"
   ]
  },
  {
   "cell_type": "markdown",
   "id": "a686cae2",
   "metadata": {},
   "source": [
    "Coleção de objetos representados na forma de `{chave: valor}`, onde a **chave** é usada para referenciar um **valor**  \n",
    "Os valores de um dicionário podem ser duplicados, mas as chaves são sempre únicas."
   ]
  },
  {
   "cell_type": "markdown",
   "id": "c56f8583",
   "metadata": {},
   "source": [
    "**Exemplo**: Uma base de informações de usuários em um sistema, em que a **chave** é o ID do usuário e o nome é o **valor**"
   ]
  },
  {
   "cell_type": "code",
   "execution_count": 29,
   "id": "1ad3cd08",
   "metadata": {},
   "outputs": [
    {
     "name": "stdout",
     "output_type": "stream",
     "text": [
      "<class 'dict'>\n",
      "4\n"
     ]
    }
   ],
   "source": [
    "clientes = {12345: 'adalto', 67890: 'andre', \n",
    "            90123: 'amaro', 54321: 'eric'}\n",
    "\n",
    "print(type(clientes))\n",
    "print(len(clientes))"
   ]
  },
  {
   "cell_type": "markdown",
   "id": "7393af83",
   "metadata": {},
   "source": [
    "### Acessando os conteúdos de um ***dict***"
   ]
  },
  {
   "cell_type": "code",
   "execution_count": 35,
   "id": "aacc9e49",
   "metadata": {},
   "outputs": [
    {
     "name": "stdout",
     "output_type": "stream",
     "text": [
      "Chaves do dicionário: dict_keys([12345, 67890, 90123, 54321])\n",
      "Valores do dicionário: dict_values(['adalto', 'andre', 'amaro', 'eric'])\n",
      "Chave: 12345, Valor: adalto\n",
      "Chave: 67890, Valor: andre\n",
      "Chave: 90123, Valor: amaro\n",
      "Chave: 54321, Valor: eric\n"
     ]
    }
   ],
   "source": [
    "# Acessando apenas as chaves\n",
    "print('Chaves do dicionário:', clientes.keys())\n",
    "\n",
    "# Acessando apenas os valores\n",
    "print('Valores do dicionário:', clientes.values())\n",
    "\n",
    "# Acessando chaves e valores por iteração\n",
    "for chave, valor in clientes.items():\n",
    "    print(f'Chave: {chave}, Valor: {valor}')"
   ]
  },
  {
   "cell_type": "markdown",
   "id": "7aac3fd0",
   "metadata": {},
   "source": [
    "Apesar de funcionar, ao usar a chave como índice para buscar valor em um dicionário, se a chave não existir retorna um `error`.  \n",
    "Para evitar erros com a chave, é idela usar o método `get()`.\n",
    "  \n",
    "Utilizando o método `get()` por padrão retorna `None` ao não encontrar a chave, mas você ainda pode programar um retorno alternativo caso o programa não enconte a chave no dicionário."
   ]
  },
  {
   "cell_type": "code",
   "execution_count": 34,
   "id": "299fc500",
   "metadata": {},
   "outputs": [
    {
     "name": "stdout",
     "output_type": "stream",
     "text": [
      "adalto eric\n",
      "None\n",
      "cliente não encontrado\n"
     ]
    }
   ],
   "source": [
    "print(clientes.get(12345), clientes.get(54321))\n",
    "print(clientes.get(11111))\n",
    "print(clientes.get(11111, 'cliente não encontrado')) # Retorna o valor padrão se a chave não for encontrada"
   ]
  },
  {
   "cell_type": "markdown",
   "id": "d836940e",
   "metadata": {},
   "source": [
    "Assim como listas, um dicionário pode possuir uma estrutura de dados dentro de si, como um dicionário dentro do outro.  \n",
    "Para acessar os valores dessa estrutura dentro dele, usa-se o aninhamento com `.get(chave1).get(chave2)`\n",
    "  \n",
    "Exemplo:"
   ]
  },
  {
   "cell_type": "code",
   "execution_count": 48,
   "id": "17ff44e8",
   "metadata": {},
   "outputs": [
    {
     "name": "stdout",
     "output_type": "stream",
     "text": [
      "219666-6666\n"
     ]
    }
   ],
   "source": [
    "contato = {\n",
    "    \"humberto\": \"219999-9999\",\n",
    "    \"andre\": \"219888-8888\",\n",
    "    \"adalto\": {'tel': '219666-6666', 'email': 'teste@teste.com.br', 'endereco': 'rua teste, 123'},\n",
    "    \"amaro\": \"219777-7777\"\n",
    "}\n",
    "\n",
    "print(contato.get('adalto').get('tel')) #aninhamento"
   ]
  },
  {
   "cell_type": "markdown",
   "id": "33924c74",
   "metadata": {},
   "source": [
    "Para adicionar ou atualizar valores a um ***dict***, podemos usar chaves como índice.  \n",
    "Ou usar o método `.update({\"chave\": \"valor\"})`  \n",
    "  \n",
    "Para removermos uma chave específica do dicionário, usamos o `del`.  \n",
    "Como o método com o `del` pode dar erro caso a chave não seja encontrada, pode-se usar o método por `.pop({\"chave\": \"valor\"})`  \n",
    "  \n",
    "Exemplo:"
   ]
  },
  {
   "cell_type": "code",
   "execution_count": 49,
   "id": "3f69e4c1",
   "metadata": {},
   "outputs": [
    {
     "name": "stdout",
     "output_type": "stream",
     "text": [
      "{'humberto': '219999-9999', 'andre': '219888-8888', 'adalto': {'tel': '219666-6666', 'email': 'teste@teste.com.br', 'endereco': 'rua teste, 123'}, 'amaro': '219777-7777'}\n",
      "219555-5555\n",
      "219444-4444\n",
      "{'andre': '219333-3333', 'amaro': '219777-7777', 'margarido': '219555-5555', 'doberval': '219222-2222'}\n"
     ]
    }
   ],
   "source": [
    "print(contato)\n",
    "\n",
    "# Adicionando e alterando valores por indice/chave\n",
    "contato['margarido'] = '219555-5555' # Adiciona um novo contato\n",
    "contato['andre'] = '219444-4444' # Altera o contato\n",
    "\n",
    "print(contato.get('margarido'))\n",
    "print(contato.get('andre'))\n",
    "\n",
    "# Adicionando e alterando valores por .update()\n",
    "contato.update({\n",
    "    'andre': '219333-3333', \n",
    "    'doberval': '219222-2222'\n",
    "    }) \n",
    "\n",
    "# deletando valores por del\n",
    "del contato['adalto']\n",
    "\n",
    "# deletando valores por .pop()\n",
    "contato.pop('humberto')\n",
    "\n",
    "\n",
    "print(contato)"
   ]
  },
  {
   "cell_type": "markdown",
   "id": "9516a887",
   "metadata": {},
   "source": [
    "# Links úteis:\n",
    "  \n",
    "- https://docs.python.org/pt-br/3/tutorial/\n",
    "- https://python.org.br/ferramentas/\n",
    "- https://aws.amazon.com/pt/what-is/python/"
   ]
  }
 ],
 "metadata": {
  "kernelspec": {
   "display_name": "base",
   "language": "python",
   "name": "python3"
  },
  "language_info": {
   "codemirror_mode": {
    "name": "ipython",
    "version": 3
   },
   "file_extension": ".py",
   "mimetype": "text/x-python",
   "name": "python",
   "nbconvert_exporter": "python",
   "pygments_lexer": "ipython3",
   "version": "3.12.7"
  }
 },
 "nbformat": 4,
 "nbformat_minor": 5
}
