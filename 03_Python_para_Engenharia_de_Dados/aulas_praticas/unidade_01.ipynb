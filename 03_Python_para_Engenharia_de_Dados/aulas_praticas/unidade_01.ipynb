{
 "cells": [
  {
   "cell_type": "markdown",
   "id": "bbd097e7",
   "metadata": {},
   "source": [
    "## Aula 01 - Introdução à linguagem Python\n",
    "\n",
    "### **Variáveis**: \n",
    "Python é dinamicamente tipificado e flexível, ou seja, o tipo é definido durante a inicialização da variável"
   ]
  },
  {
   "cell_type": "code",
   "execution_count": 5,
   "id": "4c61b97c",
   "metadata": {},
   "outputs": [
    {
     "name": "stdout",
     "output_type": "stream",
     "text": [
      "<class 'int'>\n",
      "30\n",
      "<class 'str'>\n"
     ]
    }
   ],
   "source": [
    "x = 10\n",
    "y = 20\n",
    "z = x + y\n",
    "print(type(x))\n",
    "print(z)\n",
    "x = 'python'\n",
    "print(type(x))"
   ]
  },
  {
   "cell_type": "markdown",
   "id": "257828ad",
   "metadata": {},
   "source": [
    "É considerada uma linguagem fortemente tipificada, pois verifica em tempo deesenvolvimento se o tipo de dado é compatível com o operador utilizado."
   ]
  },
  {
   "cell_type": "code",
   "execution_count": 6,
   "id": "1ab35e7d",
   "metadata": {},
   "outputs": [
    {
     "ename": "TypeError",
     "evalue": "can only concatenate str (not \"int\") to str",
     "output_type": "error",
     "traceback": [
      "\u001b[1;31m---------------------------------------------------------------------------\u001b[0m",
      "\u001b[1;31mTypeError\u001b[0m                                 Traceback (most recent call last)",
      "Cell \u001b[1;32mIn[6], line 1\u001b[0m\n\u001b[1;32m----> 1\u001b[0m \u001b[38;5;28mprint\u001b[39m(x \u001b[38;5;241m+\u001b[39m y)\n",
      "\u001b[1;31mTypeError\u001b[0m: can only concatenate str (not \"int\") to str"
     ]
    }
   ],
   "source": [
    "print(x + y)\n",
    "# Tentar usar a mesma variável após ela ter sido redefinida gerou um erro de tipos incompatíveis"
   ]
  },
  {
   "cell_type": "markdown",
   "id": "6473b42a",
   "metadata": {},
   "source": [
    "## Aula 02 - Estrutura Sequencial\n",
    "\n",
    "### **Atribuição Múltipla**\n",
    "Uma lista de valores pode receber uma outra lista de valores"
   ]
  },
  {
   "cell_type": "code",
   "execution_count": null,
   "id": "26895906",
   "metadata": {},
   "outputs": [
    {
     "name": "stdout",
     "output_type": "stream",
     "text": [
      "10 20\n",
      "20 10\n"
     ]
    }
   ],
   "source": [
    "# ex: troca de valores entre variáveis\n",
    "a = 10\n",
    "b = 20\n",
    "print(a, b)\n",
    "a, b = b, a\n",
    "print(a, b)"
   ]
  },
  {
   "cell_type": "markdown",
   "id": "b55f0e91",
   "metadata": {},
   "source": [
    "### **Comando de entrada de dados (*Input*)**\n",
    "- Comando Input\n",
    "- Utilizado para receber dados do usuário. Os dados recebidos são salvos em **variáveis**.  \n",
    "- Retorna os dados como uma *string*"
   ]
  },
  {
   "cell_type": "code",
   "execution_count": null,
   "id": "839c4a18",
   "metadata": {},
   "outputs": [
    {
     "name": "stdout",
     "output_type": "stream",
     "text": [
      "coé, adalto. Manda os dados do seu cartão de crédito pra gente!\n"
     ]
    }
   ],
   "source": [
    "nome = input('qual é o seu nome, menor? ')\n",
    "print('coé, ' + nome + '. Manda os dados do seu cartão de crédito pra gente!')"
   ]
  },
  {
   "cell_type": "markdown",
   "id": "bb250971",
   "metadata": {},
   "source": [
    "Por ser fortemente tipificado e o comando de ***input*** retornar apenas ***strings***, se quiser usar esse tipo de comando para outros tipos de tarefas, como execução de expressões matemáticas, é preciso modificar o tipo da variável antes."
   ]
  },
  {
   "cell_type": "code",
   "execution_count": null,
   "id": "e8fbdee2",
   "metadata": {},
   "outputs": [
    {
     "name": "stdout",
     "output_type": "stream",
     "text": [
      "50 * 90 = 4500\n"
     ]
    }
   ],
   "source": [
    "numero1 = int(input('Digite o primeiro número: '))\n",
    "numero2 = int(input('Digite o segundo número: '))\n",
    "result = numero1 * numero2\n",
    "print(f'{numero1} * {numero2} = {result}')"
   ]
  },
  {
   "cell_type": "markdown",
   "id": "40f512fa",
   "metadata": {},
   "source": [
    "### **Comando de saída de dados (*print*)**"
   ]
  },
  {
   "cell_type": "code",
   "execution_count": 10,
   "id": "2d6005be",
   "metadata": {},
   "outputs": [
    {
     "name": "stdout",
     "output_type": "stream",
     "text": [
      "5 elevado a 3 é 125.0\n",
      "Raiz de 5 é 2.23606797749979\n",
      "Raiz de 5 é 2.24\n"
     ]
    }
   ],
   "source": [
    "import math\n",
    "\n",
    "x = int(input('Digite um número: '))\n",
    "y = math.sqrt(x)\n",
    "z = math.pow(x, 3)\n",
    "print(f'{x} elevado a 3 é {z}')\n",
    "print(f'Raiz de {x} é {y}')\n",
    "print(f'Raiz de {x} é {y:.2f}') # .2f significa que o número será formatado para o tipo float e arredondado para duas casas decimais"
   ]
  },
  {
   "cell_type": "markdown",
   "id": "be025010",
   "metadata": {},
   "source": [
    "### **Operadores**\n",
    "\n",
    "![Operadores](https://raw.githubusercontent.com/vbs-matheus/PosGraduacao-EngDados/refs/heads/main/imgs/operadores_python.jpg)"
   ]
  }
 ],
 "metadata": {
  "kernelspec": {
   "display_name": "base",
   "language": "python",
   "name": "python3"
  },
  "language_info": {
   "codemirror_mode": {
    "name": "ipython",
    "version": 3
   },
   "file_extension": ".py",
   "mimetype": "text/x-python",
   "name": "python",
   "nbconvert_exporter": "python",
   "pygments_lexer": "ipython3",
   "version": "3.12.7"
  }
 },
 "nbformat": 4,
 "nbformat_minor": 5
}
